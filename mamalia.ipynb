{
  "cells": [
    {
      "cell_type": "markdown",
      "metadata": {
        "id": "s5IplYbPzUEA"
      },
      "source": [
        "Nama : Bayu Abdurrosyid\n",
        "\n",
        "Email : bayuuabdur2903@gmail.com\n"
      ]
    },
    {
      "cell_type": "code",
      "execution_count": null,
      "metadata": {
        "id": "5tP7YjbtzIXo"
      },
      "outputs": [],
      "source": [
        "from google.colab import files\n",
        "\n",
        "import tensorflow as tf\n",
        "from tensorflow import keras\n",
        "from tensorflow.keras import utils\n",
        "from tensorflow.keras import layers\n",
        "from tensorflow.keras.models import Sequential\n",
        "from tensorflow.keras.preprocessing import image\n",
        "from tensorflow.keras.preprocessing.image import ImageDataGenerator\n",
        "\n",
        "import matplotlib.pyplot as plt\n",
        "import numpy as py\n",
        "\n",
        "import os\n",
        "import shutil\n",
        "import subprocess as sbp"
      ]
    },
    {
      "cell_type": "code",
      "execution_count": null,
      "metadata": {
        "id": "-aBwS1mpCSOa"
      },
      "outputs": [],
      "source": [
        "!pip install -q kaggle"
      ]
    },
    {
      "cell_type": "code",
      "execution_count": null,
      "metadata": {
        "colab": {
          "base_uri": "https://localhost:8080/",
          "height": 90
        },
        "id": "iklQNXr6DLJK",
        "outputId": "859b322b-98ac-4e4a-83fe-79508321feec"
      },
      "outputs": [
        {
          "output_type": "display_data",
          "data": {
            "text/plain": [
              "<IPython.core.display.HTML object>"
            ],
            "text/html": [
              "\n",
              "     <input type=\"file\" id=\"files-991d10e0-8279-4198-a67f-a2c312be9d5f\" name=\"files[]\" multiple disabled\n",
              "        style=\"border:none\" />\n",
              "     <output id=\"result-991d10e0-8279-4198-a67f-a2c312be9d5f\">\n",
              "      Upload widget is only available when the cell has been executed in the\n",
              "      current browser session. Please rerun this cell to enable.\n",
              "      </output>\n",
              "      <script>// Copyright 2017 Google LLC\n",
              "//\n",
              "// Licensed under the Apache License, Version 2.0 (the \"License\");\n",
              "// you may not use this file except in compliance with the License.\n",
              "// You may obtain a copy of the License at\n",
              "//\n",
              "//      http://www.apache.org/licenses/LICENSE-2.0\n",
              "//\n",
              "// Unless required by applicable law or agreed to in writing, software\n",
              "// distributed under the License is distributed on an \"AS IS\" BASIS,\n",
              "// WITHOUT WARRANTIES OR CONDITIONS OF ANY KIND, either express or implied.\n",
              "// See the License for the specific language governing permissions and\n",
              "// limitations under the License.\n",
              "\n",
              "/**\n",
              " * @fileoverview Helpers for google.colab Python module.\n",
              " */\n",
              "(function(scope) {\n",
              "function span(text, styleAttributes = {}) {\n",
              "  const element = document.createElement('span');\n",
              "  element.textContent = text;\n",
              "  for (const key of Object.keys(styleAttributes)) {\n",
              "    element.style[key] = styleAttributes[key];\n",
              "  }\n",
              "  return element;\n",
              "}\n",
              "\n",
              "// Max number of bytes which will be uploaded at a time.\n",
              "const MAX_PAYLOAD_SIZE = 100 * 1024;\n",
              "\n",
              "function _uploadFiles(inputId, outputId) {\n",
              "  const steps = uploadFilesStep(inputId, outputId);\n",
              "  const outputElement = document.getElementById(outputId);\n",
              "  // Cache steps on the outputElement to make it available for the next call\n",
              "  // to uploadFilesContinue from Python.\n",
              "  outputElement.steps = steps;\n",
              "\n",
              "  return _uploadFilesContinue(outputId);\n",
              "}\n",
              "\n",
              "// This is roughly an async generator (not supported in the browser yet),\n",
              "// where there are multiple asynchronous steps and the Python side is going\n",
              "// to poll for completion of each step.\n",
              "// This uses a Promise to block the python side on completion of each step,\n",
              "// then passes the result of the previous step as the input to the next step.\n",
              "function _uploadFilesContinue(outputId) {\n",
              "  const outputElement = document.getElementById(outputId);\n",
              "  const steps = outputElement.steps;\n",
              "\n",
              "  const next = steps.next(outputElement.lastPromiseValue);\n",
              "  return Promise.resolve(next.value.promise).then((value) => {\n",
              "    // Cache the last promise value to make it available to the next\n",
              "    // step of the generator.\n",
              "    outputElement.lastPromiseValue = value;\n",
              "    return next.value.response;\n",
              "  });\n",
              "}\n",
              "\n",
              "/**\n",
              " * Generator function which is called between each async step of the upload\n",
              " * process.\n",
              " * @param {string} inputId Element ID of the input file picker element.\n",
              " * @param {string} outputId Element ID of the output display.\n",
              " * @return {!Iterable<!Object>} Iterable of next steps.\n",
              " */\n",
              "function* uploadFilesStep(inputId, outputId) {\n",
              "  const inputElement = document.getElementById(inputId);\n",
              "  inputElement.disabled = false;\n",
              "\n",
              "  const outputElement = document.getElementById(outputId);\n",
              "  outputElement.innerHTML = '';\n",
              "\n",
              "  const pickedPromise = new Promise((resolve) => {\n",
              "    inputElement.addEventListener('change', (e) => {\n",
              "      resolve(e.target.files);\n",
              "    });\n",
              "  });\n",
              "\n",
              "  const cancel = document.createElement('button');\n",
              "  inputElement.parentElement.appendChild(cancel);\n",
              "  cancel.textContent = 'Cancel upload';\n",
              "  const cancelPromise = new Promise((resolve) => {\n",
              "    cancel.onclick = () => {\n",
              "      resolve(null);\n",
              "    };\n",
              "  });\n",
              "\n",
              "  // Wait for the user to pick the files.\n",
              "  const files = yield {\n",
              "    promise: Promise.race([pickedPromise, cancelPromise]),\n",
              "    response: {\n",
              "      action: 'starting',\n",
              "    }\n",
              "  };\n",
              "\n",
              "  cancel.remove();\n",
              "\n",
              "  // Disable the input element since further picks are not allowed.\n",
              "  inputElement.disabled = true;\n",
              "\n",
              "  if (!files) {\n",
              "    return {\n",
              "      response: {\n",
              "        action: 'complete',\n",
              "      }\n",
              "    };\n",
              "  }\n",
              "\n",
              "  for (const file of files) {\n",
              "    const li = document.createElement('li');\n",
              "    li.append(span(file.name, {fontWeight: 'bold'}));\n",
              "    li.append(span(\n",
              "        `(${file.type || 'n/a'}) - ${file.size} bytes, ` +\n",
              "        `last modified: ${\n",
              "            file.lastModifiedDate ? file.lastModifiedDate.toLocaleDateString() :\n",
              "                                    'n/a'} - `));\n",
              "    const percent = span('0% done');\n",
              "    li.appendChild(percent);\n",
              "\n",
              "    outputElement.appendChild(li);\n",
              "\n",
              "    const fileDataPromise = new Promise((resolve) => {\n",
              "      const reader = new FileReader();\n",
              "      reader.onload = (e) => {\n",
              "        resolve(e.target.result);\n",
              "      };\n",
              "      reader.readAsArrayBuffer(file);\n",
              "    });\n",
              "    // Wait for the data to be ready.\n",
              "    let fileData = yield {\n",
              "      promise: fileDataPromise,\n",
              "      response: {\n",
              "        action: 'continue',\n",
              "      }\n",
              "    };\n",
              "\n",
              "    // Use a chunked sending to avoid message size limits. See b/62115660.\n",
              "    let position = 0;\n",
              "    do {\n",
              "      const length = Math.min(fileData.byteLength - position, MAX_PAYLOAD_SIZE);\n",
              "      const chunk = new Uint8Array(fileData, position, length);\n",
              "      position += length;\n",
              "\n",
              "      const base64 = btoa(String.fromCharCode.apply(null, chunk));\n",
              "      yield {\n",
              "        response: {\n",
              "          action: 'append',\n",
              "          file: file.name,\n",
              "          data: base64,\n",
              "        },\n",
              "      };\n",
              "\n",
              "      let percentDone = fileData.byteLength === 0 ?\n",
              "          100 :\n",
              "          Math.round((position / fileData.byteLength) * 100);\n",
              "      percent.textContent = `${percentDone}% done`;\n",
              "\n",
              "    } while (position < fileData.byteLength);\n",
              "  }\n",
              "\n",
              "  // All done.\n",
              "  yield {\n",
              "    response: {\n",
              "      action: 'complete',\n",
              "    }\n",
              "  };\n",
              "}\n",
              "\n",
              "scope.google = scope.google || {};\n",
              "scope.google.colab = scope.google.colab || {};\n",
              "scope.google.colab._files = {\n",
              "  _uploadFiles,\n",
              "  _uploadFilesContinue,\n",
              "};\n",
              "})(self);\n",
              "</script> "
            ]
          },
          "metadata": {}
        },
        {
          "output_type": "stream",
          "name": "stdout",
          "text": [
            "Saving kaggle.json to kaggle.json\n"
          ]
        },
        {
          "output_type": "execute_result",
          "data": {
            "text/plain": [
              "{'kaggle.json': b'{\"username\":\"bayuabdurrosyid\",\"key\":\"6c6509d7ab8892f296e1ff35889baee3\"}'}"
            ]
          },
          "metadata": {},
          "execution_count": 3
        }
      ],
      "source": [
        "files.upload()"
      ]
    },
    {
      "cell_type": "code",
      "execution_count": null,
      "metadata": {
        "id": "UdaxjQNdDSGQ"
      },
      "outputs": [],
      "source": [
        "!mkdir -p ~/.kaggle\n",
        "!cp kaggle.json ~/.kaggle/\n",
        "!chmod 600 ~/.kaggle/kaggle.json"
      ]
    },
    {
      "cell_type": "code",
      "execution_count": null,
      "metadata": {
        "colab": {
          "base_uri": "https://localhost:8080/"
        },
        "id": "LXuZGZo_Dcsi",
        "outputId": "4c36a428-ac2a-48ab-d22c-5844c2fb2414"
      },
      "outputs": [
        {
          "output_type": "stream",
          "name": "stdout",
          "text": [
            "Downloading animal-5-mammal.zip to /content\n",
            "100% 890M/892M [00:33<00:00, 45.0MB/s]\n",
            "100% 892M/892M [00:33<00:00, 27.7MB/s]\n"
          ]
        }
      ],
      "source": [
        "!kaggle datasets download -d shiv28/animal-5-mammal"
      ]
    },
    {
      "cell_type": "code",
      "execution_count": null,
      "metadata": {
        "id": "IbY9TDWEFcQ2"
      },
      "outputs": [],
      "source": [
        "!mkdir mammal\n",
        "!unzip -qq animal-5-mammal.zip -d mammal"
      ]
    },
    {
      "cell_type": "code",
      "execution_count": null,
      "metadata": {
        "id": "coMkIVXxHgZm"
      },
      "outputs": [],
      "source": [
        "dir = '/content/mammal/Animal/train'"
      ]
    },
    {
      "cell_type": "code",
      "execution_count": null,
      "metadata": {
        "id": "hl6PlalpILJF"
      },
      "outputs": [],
      "source": [
        "datagen = ImageDataGenerator(\n",
        "    rescale = 1./255,\n",
        "    fill_mode = 'nearest',\n",
        "    horizontal_flip = True,\n",
        "    rotation_range = 20,\n",
        "    width_shift_range = 0.2,\n",
        "    height_shift_range = 0.2,\n",
        "    shear_range = 0.2,\n",
        "    zoom_range = 0.15,\n",
        "    validation_split = 0.2\n",
        ")"
      ]
    },
    {
      "cell_type": "code",
      "execution_count": null,
      "metadata": {
        "colab": {
          "base_uri": "https://localhost:8080/"
        },
        "id": "gR1JA7i5IiYF",
        "outputId": "520b231f-ae5a-4d9e-9dd4-f9494e348412"
      },
      "outputs": [
        {
          "output_type": "stream",
          "name": "stdout",
          "text": [
            "Found 10799 images belonging to 5 classes.\n",
            "Found 2697 images belonging to 5 classes.\n"
          ]
        }
      ],
      "source": [
        "w = 150\n",
        "h = 150\n",
        "\n",
        "train_dataset = datagen.flow_from_directory(\n",
        "    dir,\n",
        "    class_mode='categorical',\n",
        "    subset = 'training',\n",
        "    target_size = (w, h),\n",
        "    batch_size = 256\n",
        ")\n",
        "\n",
        "validation_dataset = datagen.flow_from_directory(\n",
        "    dir,\n",
        "    class_mode='categorical',\n",
        "    subset = 'validation',\n",
        "    target_size = (w, h),\n",
        "    batch_size = 256\n",
        ")"
      ]
    },
    {
      "cell_type": "code",
      "execution_count": null,
      "metadata": {
        "id": "u3UOFRWQJjMx"
      },
      "outputs": [],
      "source": [
        "\n",
        "model = Sequential(\n",
        "    [\n",
        "     layers.Conv2D(64, (3,3), activation='relu', input_shape=(w, h, 3)),\n",
        "     layers.MaxPooling2D(2, 2),\n",
        "     layers.Conv2D(64, (3, 3), activation='relu'),\n",
        "     layers.MaxPooling2D(2, 2),\n",
        "     layers.Dropout(0.2),\n",
        "     layers.Conv2D(128, (3, 3), activation='relu'),\n",
        "     layers.MaxPooling2D(2, 2),\n",
        "     layers.Dropout(0.5),\n",
        "     layers.Conv2D(256, (3, 3), activation='relu'),\n",
        "     layers.MaxPooling2D(2, 2),\n",
        "     layers.Dropout(0.5),\n",
        "     layers.Flatten(),\n",
        "     layers.Dense(512, activation = 'relu'),\n",
        "     layers.Dense(256, activation = 'relu'),\n",
        "     layers.Dense(5, activation = 'softmax')\n",
        "    ]\n",
        ")"
      ]
    },
    {
      "cell_type": "code",
      "execution_count": null,
      "metadata": {
        "colab": {
          "base_uri": "https://localhost:8080/"
        },
        "id": "V5tszQ12JrFj",
        "outputId": "842fb6ea-2df6-44cf-ed72-89acd25ddf9f"
      },
      "outputs": [
        {
          "output_type": "stream",
          "name": "stdout",
          "text": [
            "Model: \"sequential\"\n",
            "_________________________________________________________________\n",
            " Layer (type)                Output Shape              Param #   \n",
            "=================================================================\n",
            " conv2d (Conv2D)             (None, 148, 148, 64)      1792      \n",
            "                                                                 \n",
            " max_pooling2d (MaxPooling2D  (None, 74, 74, 64)       0         \n",
            " )                                                               \n",
            "                                                                 \n",
            " conv2d_1 (Conv2D)           (None, 72, 72, 64)        36928     \n",
            "                                                                 \n",
            " max_pooling2d_1 (MaxPooling  (None, 36, 36, 64)       0         \n",
            " 2D)                                                             \n",
            "                                                                 \n",
            " dropout (Dropout)           (None, 36, 36, 64)        0         \n",
            "                                                                 \n",
            " conv2d_2 (Conv2D)           (None, 34, 34, 128)       73856     \n",
            "                                                                 \n",
            " max_pooling2d_2 (MaxPooling  (None, 17, 17, 128)      0         \n",
            " 2D)                                                             \n",
            "                                                                 \n",
            " dropout_1 (Dropout)         (None, 17, 17, 128)       0         \n",
            "                                                                 \n",
            " conv2d_3 (Conv2D)           (None, 15, 15, 256)       295168    \n",
            "                                                                 \n",
            " max_pooling2d_3 (MaxPooling  (None, 7, 7, 256)        0         \n",
            " 2D)                                                             \n",
            "                                                                 \n",
            " dropout_2 (Dropout)         (None, 7, 7, 256)         0         \n",
            "                                                                 \n",
            " flatten (Flatten)           (None, 12544)             0         \n",
            "                                                                 \n",
            " dense (Dense)               (None, 512)               6423040   \n",
            "                                                                 \n",
            " dense_1 (Dense)             (None, 256)               131328    \n",
            "                                                                 \n",
            " dense_2 (Dense)             (None, 5)                 1285      \n",
            "                                                                 \n",
            "=================================================================\n",
            "Total params: 6,963,397\n",
            "Trainable params: 6,963,397\n",
            "Non-trainable params: 0\n",
            "_________________________________________________________________\n"
          ]
        }
      ],
      "source": [
        "model.compile(\n",
        "    optimizer = 'adam',\n",
        "    loss = 'categorical_crossentropy',\n",
        "    metrics = ['accuracy']\n",
        ")\n",
        "model.summary()"
      ]
    },
    {
      "cell_type": "code",
      "execution_count": null,
      "metadata": {
        "id": "Oqarl6waJwBy"
      },
      "outputs": [],
      "source": [
        "class callback(tf.keras.callbacks.Callback):\n",
        "  def on_epoch_end(self, epocj, logs = None):\n",
        "    if (logs.get('accuracy') > 0.98 and logs.get('val_accuracy') > 0.98):\n",
        "      print('Akurasi telah mencapai 98%!')\n",
        "      self.model.stop_training = True"
      ]
    },
    {
      "cell_type": "code",
      "execution_count": null,
      "metadata": {
        "colab": {
          "base_uri": "https://localhost:8080/"
        },
        "id": "7ms3LpQWJsyt",
        "outputId": "bbf34b34-5406-406a-c982-41961d5d7e23"
      },
      "outputs": [
        {
          "output_type": "stream",
          "name": "stdout",
          "text": [
            "Epoch 1/150\n",
            "43/43 - 119s - loss: 1.5753 - accuracy: 0.2734 - val_loss: 1.4783 - val_accuracy: 0.3609 - 119s/epoch - 3s/step\n",
            "Epoch 2/150\n",
            "43/43 - 100s - loss: 1.4470 - accuracy: 0.3832 - val_loss: 1.3899 - val_accuracy: 0.4305 - 100s/epoch - 2s/step\n",
            "Epoch 3/150\n",
            "43/43 - 100s - loss: 1.3384 - accuracy: 0.4522 - val_loss: 1.2865 - val_accuracy: 0.4703 - 100s/epoch - 2s/step\n",
            "Epoch 4/150\n",
            "43/43 - 99s - loss: 1.2003 - accuracy: 0.5182 - val_loss: 1.0805 - val_accuracy: 0.5750 - 99s/epoch - 2s/step\n",
            "Epoch 5/150\n",
            "43/43 - 99s - loss: 1.0383 - accuracy: 0.5858 - val_loss: 0.8948 - val_accuracy: 0.6531 - 99s/epoch - 2s/step\n",
            "Epoch 6/150\n",
            "43/43 - 100s - loss: 0.9414 - accuracy: 0.6274 - val_loss: 0.8192 - val_accuracy: 0.6805 - 100s/epoch - 2s/step\n",
            "Epoch 7/150\n",
            "43/43 - 98s - loss: 0.8416 - accuracy: 0.6706 - val_loss: 0.7513 - val_accuracy: 0.6883 - 98s/epoch - 2s/step\n",
            "Epoch 8/150\n",
            "43/43 - 98s - loss: 0.7917 - accuracy: 0.6846 - val_loss: 0.6666 - val_accuracy: 0.7312 - 98s/epoch - 2s/step\n",
            "Epoch 9/150\n",
            "43/43 - 99s - loss: 0.7133 - accuracy: 0.7145 - val_loss: 0.6245 - val_accuracy: 0.7594 - 99s/epoch - 2s/step\n",
            "Epoch 10/150\n",
            "43/43 - 98s - loss: 0.6618 - accuracy: 0.7351 - val_loss: 0.5658 - val_accuracy: 0.7836 - 98s/epoch - 2s/step\n",
            "Epoch 11/150\n",
            "43/43 - 99s - loss: 0.6391 - accuracy: 0.7497 - val_loss: 0.5741 - val_accuracy: 0.7727 - 99s/epoch - 2s/step\n",
            "Epoch 12/150\n",
            "43/43 - 98s - loss: 0.6087 - accuracy: 0.7559 - val_loss: 0.5347 - val_accuracy: 0.7828 - 98s/epoch - 2s/step\n",
            "Epoch 13/150\n",
            "43/43 - 98s - loss: 0.5539 - accuracy: 0.7792 - val_loss: 0.4769 - val_accuracy: 0.8078 - 98s/epoch - 2s/step\n",
            "Epoch 14/150\n",
            "43/43 - 98s - loss: 0.5611 - accuracy: 0.7803 - val_loss: 0.4774 - val_accuracy: 0.8211 - 98s/epoch - 2s/step\n",
            "Epoch 15/150\n",
            "43/43 - 98s - loss: 0.5299 - accuracy: 0.7918 - val_loss: 0.4873 - val_accuracy: 0.8070 - 98s/epoch - 2s/step\n",
            "Epoch 16/150\n",
            "43/43 - 98s - loss: 0.5085 - accuracy: 0.8004 - val_loss: 0.4413 - val_accuracy: 0.8297 - 98s/epoch - 2s/step\n",
            "Epoch 17/150\n",
            "43/43 - 98s - loss: 0.4795 - accuracy: 0.8114 - val_loss: 0.4384 - val_accuracy: 0.8195 - 98s/epoch - 2s/step\n",
            "Epoch 18/150\n",
            "43/43 - 98s - loss: 0.4693 - accuracy: 0.8153 - val_loss: 0.4146 - val_accuracy: 0.8367 - 98s/epoch - 2s/step\n",
            "Epoch 19/150\n",
            "43/43 - 97s - loss: 0.4503 - accuracy: 0.8244 - val_loss: 0.4042 - val_accuracy: 0.8469 - 97s/epoch - 2s/step\n",
            "Epoch 20/150\n",
            "43/43 - 97s - loss: 0.4562 - accuracy: 0.8234 - val_loss: 0.3983 - val_accuracy: 0.8430 - 97s/epoch - 2s/step\n",
            "Epoch 21/150\n",
            "43/43 - 98s - loss: 0.4027 - accuracy: 0.8417 - val_loss: 0.3577 - val_accuracy: 0.8641 - 98s/epoch - 2s/step\n",
            "Epoch 22/150\n",
            "43/43 - 97s - loss: 0.3993 - accuracy: 0.8482 - val_loss: 0.4463 - val_accuracy: 0.8133 - 97s/epoch - 2s/step\n",
            "Epoch 23/150\n",
            "43/43 - 97s - loss: 0.4006 - accuracy: 0.8471 - val_loss: 0.4185 - val_accuracy: 0.8117 - 97s/epoch - 2s/step\n",
            "Epoch 24/150\n",
            "43/43 - 97s - loss: 0.4057 - accuracy: 0.8419 - val_loss: 0.3899 - val_accuracy: 0.8461 - 97s/epoch - 2s/step\n",
            "Epoch 25/150\n",
            "43/43 - 97s - loss: 0.3859 - accuracy: 0.8517 - val_loss: 0.3777 - val_accuracy: 0.8500 - 97s/epoch - 2s/step\n",
            "Epoch 26/150\n",
            "43/43 - 97s - loss: 0.3812 - accuracy: 0.8499 - val_loss: 0.4076 - val_accuracy: 0.8305 - 97s/epoch - 2s/step\n",
            "Epoch 27/150\n",
            "43/43 - 97s - loss: 0.3661 - accuracy: 0.8568 - val_loss: 0.3497 - val_accuracy: 0.8602 - 97s/epoch - 2s/step\n",
            "Epoch 28/150\n",
            "43/43 - 98s - loss: 0.3701 - accuracy: 0.8531 - val_loss: 0.3493 - val_accuracy: 0.8602 - 98s/epoch - 2s/step\n",
            "Epoch 29/150\n",
            "43/43 - 97s - loss: 0.3539 - accuracy: 0.8613 - val_loss: 0.4042 - val_accuracy: 0.8375 - 97s/epoch - 2s/step\n",
            "Epoch 30/150\n",
            "43/43 - 98s - loss: 0.3528 - accuracy: 0.8603 - val_loss: 0.3301 - val_accuracy: 0.8750 - 98s/epoch - 2s/step\n",
            "Epoch 31/150\n",
            "43/43 - 98s - loss: 0.3448 - accuracy: 0.8671 - val_loss: 0.2726 - val_accuracy: 0.8945 - 98s/epoch - 2s/step\n",
            "Epoch 32/150\n",
            "43/43 - 97s - loss: 0.3508 - accuracy: 0.8642 - val_loss: 0.3388 - val_accuracy: 0.8641 - 97s/epoch - 2s/step\n",
            "Epoch 33/150\n",
            "43/43 - 98s - loss: 0.3785 - accuracy: 0.8510 - val_loss: 0.3742 - val_accuracy: 0.8547 - 98s/epoch - 2s/step\n",
            "Epoch 34/150\n",
            "43/43 - 98s - loss: 0.3337 - accuracy: 0.8698 - val_loss: 0.2903 - val_accuracy: 0.8852 - 98s/epoch - 2s/step\n",
            "Epoch 35/150\n",
            "43/43 - 97s - loss: 0.3375 - accuracy: 0.8674 - val_loss: 0.3428 - val_accuracy: 0.8602 - 97s/epoch - 2s/step\n",
            "Epoch 36/150\n",
            "43/43 - 98s - loss: 0.3282 - accuracy: 0.8737 - val_loss: 0.3206 - val_accuracy: 0.8773 - 98s/epoch - 2s/step\n",
            "Epoch 37/150\n",
            "43/43 - 97s - loss: 0.2985 - accuracy: 0.8842 - val_loss: 0.3552 - val_accuracy: 0.8633 - 97s/epoch - 2s/step\n",
            "Epoch 38/150\n",
            "43/43 - 96s - loss: 0.3111 - accuracy: 0.8817 - val_loss: 0.3183 - val_accuracy: 0.8766 - 96s/epoch - 2s/step\n",
            "Epoch 39/150\n",
            "43/43 - 98s - loss: 0.3042 - accuracy: 0.8808 - val_loss: 0.3697 - val_accuracy: 0.8508 - 98s/epoch - 2s/step\n",
            "Epoch 40/150\n",
            "43/43 - 98s - loss: 0.3164 - accuracy: 0.8787 - val_loss: 0.3417 - val_accuracy: 0.8734 - 98s/epoch - 2s/step\n",
            "Epoch 41/150\n",
            "43/43 - 97s - loss: 0.3022 - accuracy: 0.8824 - val_loss: 0.3758 - val_accuracy: 0.8539 - 97s/epoch - 2s/step\n",
            "Epoch 42/150\n",
            "43/43 - 96s - loss: 0.2951 - accuracy: 0.8846 - val_loss: 0.3005 - val_accuracy: 0.8797 - 96s/epoch - 2s/step\n",
            "Epoch 43/150\n",
            "43/43 - 97s - loss: 0.2810 - accuracy: 0.8923 - val_loss: 0.2852 - val_accuracy: 0.8906 - 97s/epoch - 2s/step\n",
            "Epoch 44/150\n",
            "43/43 - 96s - loss: 0.2922 - accuracy: 0.8887 - val_loss: 0.3209 - val_accuracy: 0.8773 - 96s/epoch - 2s/step\n",
            "Epoch 45/150\n",
            "43/43 - 98s - loss: 0.2870 - accuracy: 0.8886 - val_loss: 0.2779 - val_accuracy: 0.8953 - 98s/epoch - 2s/step\n",
            "Epoch 46/150\n",
            "43/43 - 97s - loss: 0.2830 - accuracy: 0.8905 - val_loss: 0.3051 - val_accuracy: 0.8781 - 97s/epoch - 2s/step\n",
            "Epoch 47/150\n",
            "43/43 - 97s - loss: 0.2898 - accuracy: 0.8918 - val_loss: 0.2920 - val_accuracy: 0.8813 - 97s/epoch - 2s/step\n",
            "Epoch 48/150\n",
            "43/43 - 97s - loss: 0.2768 - accuracy: 0.8954 - val_loss: 0.3014 - val_accuracy: 0.8750 - 97s/epoch - 2s/step\n",
            "Epoch 49/150\n",
            "43/43 - 97s - loss: 0.2717 - accuracy: 0.8932 - val_loss: 0.2815 - val_accuracy: 0.8992 - 97s/epoch - 2s/step\n",
            "Epoch 50/150\n",
            "43/43 - 97s - loss: 0.2811 - accuracy: 0.8930 - val_loss: 0.2987 - val_accuracy: 0.8750 - 97s/epoch - 2s/step\n",
            "Epoch 51/150\n",
            "43/43 - 97s - loss: 0.2752 - accuracy: 0.8930 - val_loss: 0.2685 - val_accuracy: 0.8906 - 97s/epoch - 2s/step\n",
            "Epoch 52/150\n",
            "43/43 - 96s - loss: 0.2724 - accuracy: 0.8944 - val_loss: 0.3043 - val_accuracy: 0.8773 - 96s/epoch - 2s/step\n",
            "Epoch 53/150\n",
            "43/43 - 96s - loss: 0.2695 - accuracy: 0.8958 - val_loss: 0.2893 - val_accuracy: 0.8938 - 96s/epoch - 2s/step\n",
            "Epoch 54/150\n",
            "43/43 - 97s - loss: 0.2638 - accuracy: 0.8976 - val_loss: 0.2639 - val_accuracy: 0.8938 - 97s/epoch - 2s/step\n",
            "Epoch 55/150\n",
            "43/43 - 101s - loss: 0.2724 - accuracy: 0.8970 - val_loss: 0.3336 - val_accuracy: 0.8633 - 101s/epoch - 2s/step\n",
            "Epoch 56/150\n",
            "43/43 - 98s - loss: 0.2740 - accuracy: 0.8956 - val_loss: 0.2606 - val_accuracy: 0.9016 - 98s/epoch - 2s/step\n",
            "Epoch 57/150\n",
            "43/43 - 98s - loss: 0.2781 - accuracy: 0.8918 - val_loss: 0.2415 - val_accuracy: 0.9102 - 98s/epoch - 2s/step\n",
            "Epoch 58/150\n",
            "43/43 - 97s - loss: 0.2531 - accuracy: 0.9073 - val_loss: 0.2988 - val_accuracy: 0.8922 - 97s/epoch - 2s/step\n",
            "Epoch 59/150\n",
            "43/43 - 98s - loss: 0.2578 - accuracy: 0.8985 - val_loss: 0.2422 - val_accuracy: 0.9070 - 98s/epoch - 2s/step\n",
            "Epoch 60/150\n",
            "43/43 - 98s - loss: 0.2620 - accuracy: 0.8997 - val_loss: 0.2562 - val_accuracy: 0.9023 - 98s/epoch - 2s/step\n",
            "Epoch 61/150\n",
            "43/43 - 98s - loss: 0.2550 - accuracy: 0.9004 - val_loss: 0.2388 - val_accuracy: 0.9047 - 98s/epoch - 2s/step\n",
            "Epoch 62/150\n",
            "43/43 - 98s - loss: 0.2335 - accuracy: 0.9084 - val_loss: 0.2526 - val_accuracy: 0.9039 - 98s/epoch - 2s/step\n",
            "Epoch 63/150\n",
            "43/43 - 97s - loss: 0.2525 - accuracy: 0.9033 - val_loss: 0.2975 - val_accuracy: 0.8883 - 97s/epoch - 2s/step\n",
            "Epoch 64/150\n",
            "43/43 - 98s - loss: 0.2431 - accuracy: 0.9063 - val_loss: 0.2871 - val_accuracy: 0.8914 - 98s/epoch - 2s/step\n",
            "Epoch 65/150\n",
            "43/43 - 99s - loss: 0.2459 - accuracy: 0.9080 - val_loss: 0.2729 - val_accuracy: 0.8977 - 99s/epoch - 2s/step\n",
            "Epoch 66/150\n",
            "43/43 - 99s - loss: 0.2371 - accuracy: 0.9112 - val_loss: 0.3088 - val_accuracy: 0.8758 - 99s/epoch - 2s/step\n",
            "Epoch 67/150\n",
            "43/43 - 100s - loss: 0.2434 - accuracy: 0.9073 - val_loss: 0.2844 - val_accuracy: 0.8859 - 100s/epoch - 2s/step\n",
            "Epoch 68/150\n",
            "43/43 - 99s - loss: 0.2305 - accuracy: 0.9118 - val_loss: 0.2583 - val_accuracy: 0.9039 - 99s/epoch - 2s/step\n",
            "Epoch 69/150\n",
            "43/43 - 99s - loss: 0.2337 - accuracy: 0.9119 - val_loss: 0.2227 - val_accuracy: 0.9133 - 99s/epoch - 2s/step\n",
            "Epoch 70/150\n",
            "43/43 - 98s - loss: 0.2191 - accuracy: 0.9143 - val_loss: 0.2521 - val_accuracy: 0.8930 - 98s/epoch - 2s/step\n",
            "Epoch 71/150\n",
            "43/43 - 99s - loss: 0.2367 - accuracy: 0.9110 - val_loss: 0.2530 - val_accuracy: 0.9055 - 99s/epoch - 2s/step\n",
            "Epoch 72/150\n",
            "43/43 - 98s - loss: 0.2282 - accuracy: 0.9111 - val_loss: 0.2637 - val_accuracy: 0.8914 - 98s/epoch - 2s/step\n",
            "Epoch 73/150\n",
            "43/43 - 100s - loss: 0.2295 - accuracy: 0.9136 - val_loss: 0.2469 - val_accuracy: 0.8992 - 100s/epoch - 2s/step\n",
            "Epoch 74/150\n",
            "43/43 - 99s - loss: 0.2238 - accuracy: 0.9168 - val_loss: 0.2531 - val_accuracy: 0.9008 - 99s/epoch - 2s/step\n",
            "Epoch 75/150\n",
            "43/43 - 99s - loss: 0.2267 - accuracy: 0.9136 - val_loss: 0.2485 - val_accuracy: 0.9086 - 99s/epoch - 2s/step\n",
            "Epoch 76/150\n",
            "43/43 - 99s - loss: 0.2246 - accuracy: 0.9154 - val_loss: 0.2580 - val_accuracy: 0.8961 - 99s/epoch - 2s/step\n",
            "Epoch 77/150\n",
            "43/43 - 100s - loss: 0.2270 - accuracy: 0.9134 - val_loss: 0.2430 - val_accuracy: 0.9078 - 100s/epoch - 2s/step\n",
            "Epoch 78/150\n",
            "43/43 - 99s - loss: 0.2189 - accuracy: 0.9171 - val_loss: 0.2780 - val_accuracy: 0.8930 - 99s/epoch - 2s/step\n",
            "Epoch 79/150\n",
            "43/43 - 98s - loss: 0.2268 - accuracy: 0.9119 - val_loss: 0.2759 - val_accuracy: 0.9000 - 98s/epoch - 2s/step\n",
            "Epoch 80/150\n",
            "43/43 - 98s - loss: 0.2142 - accuracy: 0.9207 - val_loss: 0.2189 - val_accuracy: 0.9102 - 98s/epoch - 2s/step\n",
            "Epoch 81/150\n",
            "43/43 - 97s - loss: 0.2199 - accuracy: 0.9176 - val_loss: 0.2396 - val_accuracy: 0.8938 - 97s/epoch - 2s/step\n",
            "Epoch 82/150\n",
            "43/43 - 97s - loss: 0.2168 - accuracy: 0.9173 - val_loss: 0.2547 - val_accuracy: 0.9086 - 97s/epoch - 2s/step\n",
            "Epoch 83/150\n",
            "43/43 - 99s - loss: 0.2298 - accuracy: 0.9135 - val_loss: 0.2389 - val_accuracy: 0.9062 - 99s/epoch - 2s/step\n",
            "Epoch 84/150\n",
            "43/43 - 98s - loss: 0.2361 - accuracy: 0.9091 - val_loss: 0.2717 - val_accuracy: 0.8984 - 98s/epoch - 2s/step\n",
            "Epoch 85/150\n",
            "43/43 - 98s - loss: 0.2261 - accuracy: 0.9112 - val_loss: 0.2642 - val_accuracy: 0.9008 - 98s/epoch - 2s/step\n",
            "Epoch 86/150\n",
            "43/43 - 97s - loss: 0.2072 - accuracy: 0.9228 - val_loss: 0.2347 - val_accuracy: 0.9109 - 97s/epoch - 2s/step\n",
            "Epoch 87/150\n",
            "43/43 - 99s - loss: 0.2047 - accuracy: 0.9218 - val_loss: 0.2647 - val_accuracy: 0.8898 - 99s/epoch - 2s/step\n",
            "Epoch 88/150\n",
            "43/43 - 97s - loss: 0.2078 - accuracy: 0.9213 - val_loss: 0.2729 - val_accuracy: 0.8938 - 97s/epoch - 2s/step\n",
            "Epoch 89/150\n",
            "43/43 - 100s - loss: 0.1990 - accuracy: 0.9228 - val_loss: 0.2337 - val_accuracy: 0.9109 - 100s/epoch - 2s/step\n",
            "Epoch 90/150\n",
            "43/43 - 99s - loss: 0.1991 - accuracy: 0.9243 - val_loss: 0.2229 - val_accuracy: 0.9125 - 99s/epoch - 2s/step\n",
            "Epoch 91/150\n",
            "43/43 - 99s - loss: 0.2032 - accuracy: 0.9226 - val_loss: 0.2282 - val_accuracy: 0.9039 - 99s/epoch - 2s/step\n",
            "Epoch 92/150\n",
            "43/43 - 99s - loss: 0.2090 - accuracy: 0.9230 - val_loss: 0.2334 - val_accuracy: 0.9102 - 99s/epoch - 2s/step\n",
            "Epoch 93/150\n",
            "43/43 - 97s - loss: 0.1977 - accuracy: 0.9254 - val_loss: 0.2397 - val_accuracy: 0.9148 - 97s/epoch - 2s/step\n",
            "Epoch 94/150\n",
            "43/43 - 98s - loss: 0.2043 - accuracy: 0.9254 - val_loss: 0.2806 - val_accuracy: 0.8898 - 98s/epoch - 2s/step\n",
            "Epoch 95/150\n",
            "43/43 - 97s - loss: 0.1985 - accuracy: 0.9247 - val_loss: 0.2457 - val_accuracy: 0.9023 - 97s/epoch - 2s/step\n",
            "Epoch 96/150\n",
            "43/43 - 97s - loss: 0.1915 - accuracy: 0.9280 - val_loss: 0.2811 - val_accuracy: 0.8859 - 97s/epoch - 2s/step\n",
            "Epoch 97/150\n",
            "43/43 - 96s - loss: 0.1889 - accuracy: 0.9292 - val_loss: 0.2702 - val_accuracy: 0.8906 - 96s/epoch - 2s/step\n",
            "Epoch 98/150\n",
            "43/43 - 97s - loss: 0.1952 - accuracy: 0.9268 - val_loss: 0.2706 - val_accuracy: 0.8992 - 97s/epoch - 2s/step\n",
            "Epoch 99/150\n",
            "43/43 - 97s - loss: 0.2007 - accuracy: 0.9244 - val_loss: 0.2425 - val_accuracy: 0.9078 - 97s/epoch - 2s/step\n",
            "Epoch 100/150\n",
            "43/43 - 99s - loss: 0.1971 - accuracy: 0.9252 - val_loss: 0.2406 - val_accuracy: 0.9039 - 99s/epoch - 2s/step\n",
            "Epoch 101/150\n",
            "43/43 - 96s - loss: 0.1999 - accuracy: 0.9224 - val_loss: 0.2423 - val_accuracy: 0.9047 - 96s/epoch - 2s/step\n",
            "Epoch 102/150\n",
            "43/43 - 97s - loss: 0.1859 - accuracy: 0.9280 - val_loss: 0.2268 - val_accuracy: 0.9195 - 97s/epoch - 2s/step\n",
            "Epoch 103/150\n",
            "43/43 - 96s - loss: 0.1856 - accuracy: 0.9297 - val_loss: 0.2321 - val_accuracy: 0.9078 - 96s/epoch - 2s/step\n",
            "Epoch 104/150\n",
            "43/43 - 97s - loss: 0.2062 - accuracy: 0.9210 - val_loss: 0.2482 - val_accuracy: 0.9086 - 97s/epoch - 2s/step\n",
            "Epoch 105/150\n",
            "43/43 - 96s - loss: 0.1949 - accuracy: 0.9268 - val_loss: 0.2116 - val_accuracy: 0.9250 - 96s/epoch - 2s/step\n",
            "Epoch 106/150\n",
            "43/43 - 97s - loss: 0.2048 - accuracy: 0.9244 - val_loss: 0.2256 - val_accuracy: 0.9109 - 97s/epoch - 2s/step\n",
            "Epoch 107/150\n",
            "43/43 - 96s - loss: 0.1821 - accuracy: 0.9330 - val_loss: 0.2696 - val_accuracy: 0.8977 - 96s/epoch - 2s/step\n",
            "Epoch 108/150\n",
            "43/43 - 96s - loss: 0.1933 - accuracy: 0.9263 - val_loss: 0.2400 - val_accuracy: 0.9086 - 96s/epoch - 2s/step\n",
            "Epoch 109/150\n",
            "43/43 - 97s - loss: 0.1834 - accuracy: 0.9288 - val_loss: 0.2605 - val_accuracy: 0.9023 - 97s/epoch - 2s/step\n",
            "Epoch 110/150\n",
            "43/43 - 97s - loss: 0.1826 - accuracy: 0.9317 - val_loss: 0.2574 - val_accuracy: 0.9078 - 97s/epoch - 2s/step\n",
            "Epoch 111/150\n",
            "43/43 - 96s - loss: 0.1907 - accuracy: 0.9258 - val_loss: 0.2964 - val_accuracy: 0.8773 - 96s/epoch - 2s/step\n",
            "Epoch 112/150\n",
            "43/43 - 97s - loss: 0.1876 - accuracy: 0.9283 - val_loss: 0.2369 - val_accuracy: 0.9070 - 97s/epoch - 2s/step\n",
            "Epoch 113/150\n",
            "43/43 - 97s - loss: 0.1901 - accuracy: 0.9293 - val_loss: 0.2212 - val_accuracy: 0.9141 - 97s/epoch - 2s/step\n",
            "Epoch 114/150\n",
            "43/43 - 97s - loss: 0.1840 - accuracy: 0.9299 - val_loss: 0.2300 - val_accuracy: 0.9148 - 97s/epoch - 2s/step\n",
            "Epoch 115/150\n",
            "43/43 - 97s - loss: 0.1796 - accuracy: 0.9325 - val_loss: 0.2091 - val_accuracy: 0.9195 - 97s/epoch - 2s/step\n",
            "Epoch 116/150\n",
            "43/43 - 97s - loss: 0.1821 - accuracy: 0.9320 - val_loss: 0.2472 - val_accuracy: 0.8922 - 97s/epoch - 2s/step\n",
            "Epoch 117/150\n",
            "43/43 - 97s - loss: 0.1851 - accuracy: 0.9302 - val_loss: 0.2297 - val_accuracy: 0.9109 - 97s/epoch - 2s/step\n",
            "Epoch 118/150\n",
            "43/43 - 97s - loss: 0.1934 - accuracy: 0.9277 - val_loss: 0.2380 - val_accuracy: 0.9172 - 97s/epoch - 2s/step\n",
            "Epoch 119/150\n",
            "43/43 - 97s - loss: 0.1781 - accuracy: 0.9325 - val_loss: 0.2258 - val_accuracy: 0.9164 - 97s/epoch - 2s/step\n",
            "Epoch 120/150\n",
            "43/43 - 96s - loss: 0.1702 - accuracy: 0.9359 - val_loss: 0.2842 - val_accuracy: 0.8984 - 96s/epoch - 2s/step\n",
            "Epoch 121/150\n",
            "43/43 - 97s - loss: 0.1759 - accuracy: 0.9354 - val_loss: 0.2440 - val_accuracy: 0.9047 - 97s/epoch - 2s/step\n",
            "Epoch 122/150\n",
            "43/43 - 96s - loss: 0.1759 - accuracy: 0.9353 - val_loss: 0.2260 - val_accuracy: 0.9133 - 96s/epoch - 2s/step\n",
            "Epoch 123/150\n",
            "43/43 - 96s - loss: 0.1670 - accuracy: 0.9368 - val_loss: 0.2270 - val_accuracy: 0.9086 - 96s/epoch - 2s/step\n",
            "Epoch 124/150\n",
            "43/43 - 97s - loss: 0.1631 - accuracy: 0.9380 - val_loss: 0.2163 - val_accuracy: 0.9172 - 97s/epoch - 2s/step\n",
            "Epoch 125/150\n",
            "43/43 - 97s - loss: 0.1622 - accuracy: 0.9401 - val_loss: 0.3128 - val_accuracy: 0.8984 - 97s/epoch - 2s/step\n",
            "Epoch 126/150\n",
            "43/43 - 97s - loss: 0.1755 - accuracy: 0.9321 - val_loss: 0.2708 - val_accuracy: 0.8953 - 97s/epoch - 2s/step\n",
            "Epoch 127/150\n",
            "43/43 - 97s - loss: 0.1673 - accuracy: 0.9363 - val_loss: 0.2261 - val_accuracy: 0.9070 - 97s/epoch - 2s/step\n",
            "Epoch 128/150\n",
            "43/43 - 97s - loss: 0.1738 - accuracy: 0.9323 - val_loss: 0.2311 - val_accuracy: 0.9094 - 97s/epoch - 2s/step\n",
            "Epoch 129/150\n",
            "43/43 - 97s - loss: 0.1834 - accuracy: 0.9309 - val_loss: 0.2088 - val_accuracy: 0.9187 - 97s/epoch - 2s/step\n",
            "Epoch 130/150\n",
            "43/43 - 96s - loss: 0.1736 - accuracy: 0.9359 - val_loss: 0.2132 - val_accuracy: 0.9156 - 96s/epoch - 2s/step\n",
            "Epoch 131/150\n",
            "43/43 - 97s - loss: 0.1618 - accuracy: 0.9378 - val_loss: 0.2341 - val_accuracy: 0.9109 - 97s/epoch - 2s/step\n",
            "Epoch 132/150\n",
            "43/43 - 97s - loss: 0.1815 - accuracy: 0.9291 - val_loss: 0.2423 - val_accuracy: 0.9062 - 97s/epoch - 2s/step\n",
            "Epoch 133/150\n",
            "43/43 - 97s - loss: 0.1615 - accuracy: 0.9378 - val_loss: 0.1991 - val_accuracy: 0.9195 - 97s/epoch - 2s/step\n",
            "Epoch 134/150\n",
            "43/43 - 97s - loss: 0.1535 - accuracy: 0.9413 - val_loss: 0.2011 - val_accuracy: 0.9211 - 97s/epoch - 2s/step\n",
            "Epoch 135/150\n",
            "43/43 - 96s - loss: 0.1570 - accuracy: 0.9406 - val_loss: 0.2076 - val_accuracy: 0.9250 - 96s/epoch - 2s/step\n",
            "Epoch 136/150\n",
            "43/43 - 97s - loss: 0.1602 - accuracy: 0.9374 - val_loss: 0.2096 - val_accuracy: 0.9281 - 97s/epoch - 2s/step\n",
            "Epoch 137/150\n",
            "43/43 - 97s - loss: 0.1606 - accuracy: 0.9406 - val_loss: 0.2377 - val_accuracy: 0.9070 - 97s/epoch - 2s/step\n",
            "Epoch 138/150\n",
            "43/43 - 97s - loss: 0.1562 - accuracy: 0.9401 - val_loss: 0.2471 - val_accuracy: 0.9117 - 97s/epoch - 2s/step\n",
            "Epoch 139/150\n",
            "43/43 - 97s - loss: 0.1655 - accuracy: 0.9380 - val_loss: 0.2203 - val_accuracy: 0.9266 - 97s/epoch - 2s/step\n",
            "Epoch 140/150\n",
            "43/43 - 96s - loss: 0.1573 - accuracy: 0.9422 - val_loss: 0.2297 - val_accuracy: 0.9172 - 96s/epoch - 2s/step\n",
            "Epoch 141/150\n",
            "43/43 - 96s - loss: 0.1538 - accuracy: 0.9431 - val_loss: 0.1928 - val_accuracy: 0.9281 - 96s/epoch - 2s/step\n",
            "Epoch 142/150\n",
            "43/43 - 97s - loss: 0.1563 - accuracy: 0.9414 - val_loss: 0.2499 - val_accuracy: 0.9023 - 97s/epoch - 2s/step\n",
            "Epoch 143/150\n",
            "43/43 - 97s - loss: 0.1539 - accuracy: 0.9416 - val_loss: 0.2564 - val_accuracy: 0.9070 - 97s/epoch - 2s/step\n",
            "Epoch 144/150\n",
            "43/43 - 97s - loss: 0.1550 - accuracy: 0.9429 - val_loss: 0.2146 - val_accuracy: 0.9227 - 97s/epoch - 2s/step\n",
            "Epoch 145/150\n",
            "43/43 - 96s - loss: 0.1518 - accuracy: 0.9421 - val_loss: 0.2634 - val_accuracy: 0.9055 - 96s/epoch - 2s/step\n",
            "Epoch 146/150\n",
            "43/43 - 97s - loss: 0.1483 - accuracy: 0.9469 - val_loss: 0.2458 - val_accuracy: 0.9109 - 97s/epoch - 2s/step\n",
            "Epoch 147/150\n",
            "43/43 - 96s - loss: 0.1453 - accuracy: 0.9466 - val_loss: 0.2194 - val_accuracy: 0.9187 - 96s/epoch - 2s/step\n",
            "Epoch 148/150\n",
            "43/43 - 96s - loss: 0.1381 - accuracy: 0.9479 - val_loss: 0.2240 - val_accuracy: 0.9187 - 96s/epoch - 2s/step\n",
            "Epoch 149/150\n",
            "43/43 - 96s - loss: 0.1583 - accuracy: 0.9428 - val_loss: 0.2878 - val_accuracy: 0.9023 - 96s/epoch - 2s/step\n",
            "Epoch 150/150\n",
            "43/43 - 97s - loss: 0.1602 - accuracy: 0.9383 - val_loss: 0.2600 - val_accuracy: 0.9000 - 97s/epoch - 2s/step\n"
          ]
        }
      ],
      "source": [
        "history = model.fit(\n",
        "    train_dataset,\n",
        "    validation_data = validation_dataset,\n",
        "    validation_steps = 5,\n",
        "    epochs = 150,\n",
        "    verbose = 2,\n",
        "    callbacks = [callback()]    \n",
        ")"
      ]
    },
    {
      "cell_type": "code",
      "execution_count": null,
      "metadata": {
        "colab": {
          "base_uri": "https://localhost:8080/",
          "height": 295
        },
        "id": "qsFlWFqpJ5Gm",
        "outputId": "218f4763-277b-4456-fbbe-7a0133227720"
      },
      "outputs": [
        {
          "output_type": "display_data",
          "data": {
            "text/plain": [
              "<Figure size 432x288 with 1 Axes>"
            ],
            "image/png": "[encoded data removed]"
          },
          "metadata": {
            "needs_background": "light"
          }
        }
      ],
      "source": [
        "plt.plot(history.history['accuracy'])\n",
        "plt.plot(history.history['val_accuracy'])\n",
        "plt.title('model accuracy')\n",
        "plt.ylabel('accuracy')\n",
        "plt.xlabel('epoch')\n",
        "plt.legend(['train', 'test'], loc='upper left')\n",
        "plt.show()"
      ]
    },
    {
      "cell_type": "code",
      "execution_count": null,
      "metadata": {
        "colab": {
          "base_uri": "https://localhost:8080/",
          "height": 295
        },
        "id": "OIIXThGQJ69I",
        "outputId": "bf932f4b-eeea-4c3f-a708-47dfc6f00695"
      },
      "outputs": [
        {
          "output_type": "display_data",
          "data": {
            "text/plain": [
              "<Figure size 432x288 with 1 Axes>"
            ],
            "image/png": "[encoded data removed]"
          },
          "metadata": {
            "needs_background": "light"
          }
        }
      ],
      "source": [
        "plt.plot(history.history['loss'])\n",
        "plt.plot(history.history['val_loss'])\n",
        "plt.title('model loss')\n",
        "plt.ylabel('loss')\n",
        "plt.xlabel('epoch')\n",
        "plt.legend(['train', 'test'], loc='upper left')\n",
        "plt.show()"
      ]
    },
    {
      "cell_type": "code",
      "execution_count": null,
      "metadata": {
        "id": "-dgJqo06KC68"
      },
      "outputs": [],
      "source": [
        "converter = tf.lite.TFLiteConverter.from_keras_model(model)\n",
        "tflite_model = converter.convert()\n",
        "\n",
        "with tf.io.gfile.GFile('model.tflite', 'wb') as f:\n",
        "   f.write(tflite_model)"
      ]
    }
  ],
  "metadata": {
    "accelerator": "GPU",
    "colab": {
      "collapsed_sections": [],
      "provenance": []
    },
    "kernelspec": {
      "display_name": "Python 3",
      "name": "python3"
    },
    "language_info": {
      "name": "python"
    }
  },
  "nbformat": 4,
  "nbformat_minor": 0
}