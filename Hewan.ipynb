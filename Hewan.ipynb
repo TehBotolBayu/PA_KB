{
  "cells": [
    {
      "cell_type": "markdown",
      "metadata": {
        "id": "s5IplYbPzUEA"
      },
      "source": [
        "Nama : Bayu Abdurrosyid\n",
        "\n",
        "Email : bayuuabdur2903@gmail.com\n"
      ]
    },
    {
      "cell_type": "code",
      "execution_count": null,
      "metadata": {
        "id": "5tP7YjbtzIXo"
      },
      "outputs": [],
      "source": [
        "from google.colab import files\n",
        "\n",
        "import tensorflow as tf\n",
        "from tensorflow import keras\n",
        "from tensorflow.keras import utils\n",
        "from tensorflow.keras import layers\n",
        "from tensorflow.keras.models import Sequential\n",
        "from tensorflow.keras.preprocessing import image\n",
        "from tensorflow.keras.preprocessing.image import ImageDataGenerator\n",
        "\n",
        "import matplotlib.pyplot as plt\n",
        "import numpy as py\n",
        "\n",
        "import os\n",
        "import shutil\n",
        "import subprocess as sbp"
      ]
    },
    {
      "cell_type": "code",
      "execution_count": null,
      "metadata": {
        "id": "-aBwS1mpCSOa"
      },
      "outputs": [],
      "source": [
        "!pip install -q kaggle"
      ]
    },
    {
      "cell_type": "code",
      "execution_count": null,
      "metadata": {
        "colab": {
          "base_uri": "https://localhost:8080/"
        },
        "id": "iklQNXr6DLJK",
        "outputId": "8126fb84-0efd-495c-a485-d552f127782a"
      },
      "outputs": [
        {
          "data": {
            "text/html": [
              "\n",
              "     <input type=\"file\" id=\"files-fcf5bb39-4983-4958-a2ba-843003eff9ea\" name=\"files[]\" multiple disabled\n",
              "        style=\"border:none\" />\n",
              "     <output id=\"result-fcf5bb39-4983-4958-a2ba-843003eff9ea\">\n",
              "      Upload widget is only available when the cell has been executed in the\n",
              "      current browser session. Please rerun this cell to enable.\n",
              "      </output>\n",
              "      <script>// Copyright 2017 Google LLC\n",
              "//\n",
              "// Licensed under the Apache License, Version 2.0 (the \"License\");\n",
              "// you may not use this file except in compliance with the License.\n",
              "// You may obtain a copy of the License at\n",
              "//\n",
              "//      http://www.apache.org/licenses/LICENSE-2.0\n",
              "//\n",
              "// Unless required by applicable law or agreed to in writing, software\n",
              "// distributed under the License is distributed on an \"AS IS\" BASIS,\n",
              "// WITHOUT WARRANTIES OR CONDITIONS OF ANY KIND, either express or implied.\n",
              "// See the License for the specific language governing permissions and\n",
              "// limitations under the License.\n",
              "\n",
              "/**\n",
              " * @fileoverview Helpers for google.colab Python module.\n",
              " */\n",
              "(function(scope) {\n",
              "function span(text, styleAttributes = {}) {\n",
              "  const element = document.createElement('span');\n",
              "  element.textContent = text;\n",
              "  for (const key of Object.keys(styleAttributes)) {\n",
              "    element.style[key] = styleAttributes[key];\n",
              "  }\n",
              "  return element;\n",
              "}\n",
              "\n",
              "// Max number of bytes which will be uploaded at a time.\n",
              "const MAX_PAYLOAD_SIZE = 100 * 1024;\n",
              "\n",
              "function _uploadFiles(inputId, outputId) {\n",
              "  const steps = uploadFilesStep(inputId, outputId);\n",
              "  const outputElement = document.getElementById(outputId);\n",
              "  // Cache steps on the outputElement to make it available for the next call\n",
              "  // to uploadFilesContinue from Python.\n",
              "  outputElement.steps = steps;\n",
              "\n",
              "  return _uploadFilesContinue(outputId);\n",
              "}\n",
              "\n",
              "// This is roughly an async generator (not supported in the browser yet),\n",
              "// where there are multiple asynchronous steps and the Python side is going\n",
              "// to poll for completion of each step.\n",
              "// This uses a Promise to block the python side on completion of each step,\n",
              "// then passes the result of the previous step as the input to the next step.\n",
              "function _uploadFilesContinue(outputId) {\n",
              "  const outputElement = document.getElementById(outputId);\n",
              "  const steps = outputElement.steps;\n",
              "\n",
              "  const next = steps.next(outputElement.lastPromiseValue);\n",
              "  return Promise.resolve(next.value.promise).then((value) => {\n",
              "    // Cache the last promise value to make it available to the next\n",
              "    // step of the generator.\n",
              "    outputElement.lastPromiseValue = value;\n",
              "    return next.value.response;\n",
              "  });\n",
              "}\n",
              "\n",
              "/**\n",
              " * Generator function which is called between each async step of the upload\n",
              " * process.\n",
              " * @param {string} inputId Element ID of the input file picker element.\n",
              " * @param {string} outputId Element ID of the output display.\n",
              " * @return {!Iterable<!Object>} Iterable of next steps.\n",
              " */\n",
              "function* uploadFilesStep(inputId, outputId) {\n",
              "  const inputElement = document.getElementById(inputId);\n",
              "  inputElement.disabled = false;\n",
              "\n",
              "  const outputElement = document.getElementById(outputId);\n",
              "  outputElement.innerHTML = '';\n",
              "\n",
              "  const pickedPromise = new Promise((resolve) => {\n",
              "    inputElement.addEventListener('change', (e) => {\n",
              "      resolve(e.target.files);\n",
              "    });\n",
              "  });\n",
              "\n",
              "  const cancel = document.createElement('button');\n",
              "  inputElement.parentElement.appendChild(cancel);\n",
              "  cancel.textContent = 'Cancel upload';\n",
              "  const cancelPromise = new Promise((resolve) => {\n",
              "    cancel.onclick = () => {\n",
              "      resolve(null);\n",
              "    };\n",
              "  });\n",
              "\n",
              "  // Wait for the user to pick the files.\n",
              "  const files = yield {\n",
              "    promise: Promise.race([pickedPromise, cancelPromise]),\n",
              "    response: {\n",
              "      action: 'starting',\n",
              "    }\n",
              "  };\n",
              "\n",
              "  cancel.remove();\n",
              "\n",
              "  // Disable the input element since further picks are not allowed.\n",
              "  inputElement.disabled = true;\n",
              "\n",
              "  if (!files) {\n",
              "    return {\n",
              "      response: {\n",
              "        action: 'complete',\n",
              "      }\n",
              "    };\n",
              "  }\n",
              "\n",
              "  for (const file of files) {\n",
              "    const li = document.createElement('li');\n",
              "    li.append(span(file.name, {fontWeight: 'bold'}));\n",
              "    li.append(span(\n",
              "        `(${file.type || 'n/a'}) - ${file.size} bytes, ` +\n",
              "        `last modified: ${\n",
              "            file.lastModifiedDate ? file.lastModifiedDate.toLocaleDateString() :\n",
              "                                    'n/a'} - `));\n",
              "    const percent = span('0% done');\n",
              "    li.appendChild(percent);\n",
              "\n",
              "    outputElement.appendChild(li);\n",
              "\n",
              "    const fileDataPromise = new Promise((resolve) => {\n",
              "      const reader = new FileReader();\n",
              "      reader.onload = (e) => {\n",
              "        resolve(e.target.result);\n",
              "      };\n",
              "      reader.readAsArrayBuffer(file);\n",
              "    });\n",
              "    // Wait for the data to be ready.\n",
              "    let fileData = yield {\n",
              "      promise: fileDataPromise,\n",
              "      response: {\n",
              "        action: 'continue',\n",
              "      }\n",
              "    };\n",
              "\n",
              "    // Use a chunked sending to avoid message size limits. See b/62115660.\n",
              "    let position = 0;\n",
              "    do {\n",
              "      const length = Math.min(fileData.byteLength - position, MAX_PAYLOAD_SIZE);\n",
              "      const chunk = new Uint8Array(fileData, position, length);\n",
              "      position += length;\n",
              "\n",
              "      const base64 = btoa(String.fromCharCode.apply(null, chunk));\n",
              "      yield {\n",
              "        response: {\n",
              "          action: 'append',\n",
              "          file: file.name,\n",
              "          data: base64,\n",
              "        },\n",
              "      };\n",
              "\n",
              "      let percentDone = fileData.byteLength === 0 ?\n",
              "          100 :\n",
              "          Math.round((position / fileData.byteLength) * 100);\n",
              "      percent.textContent = `${percentDone}% done`;\n",
              "\n",
              "    } while (position < fileData.byteLength);\n",
              "  }\n",
              "\n",
              "  // All done.\n",
              "  yield {\n",
              "    response: {\n",
              "      action: 'complete',\n",
              "    }\n",
              "  };\n",
              "}\n",
              "\n",
              "scope.google = scope.google || {};\n",
              "scope.google.colab = scope.google.colab || {};\n",
              "scope.google.colab._files = {\n",
              "  _uploadFiles,\n",
              "  _uploadFilesContinue,\n",
              "};\n",
              "})(self);\n",
              "</script> "
            ],
            "text/plain": [
              "<IPython.core.display.HTML object>"
            ]
          },
          "metadata": {},
          "output_type": "display_data"
        }
      ],
      "source": [
        "files.upload()"
      ]
    },
    {
      "cell_type": "code",
      "execution_count": null,
      "metadata": {
        "id": "UdaxjQNdDSGQ"
      },
      "outputs": [],
      "source": [
        "!mkdir -p ~/.kaggle\n",
        "!cp kaggle.json ~/.kaggle/\n",
        "!chmod 600 ~/.kaggle/kaggle.json"
      ]
    },
    {
      "cell_type": "code",
      "execution_count": null,
      "metadata": {
        "colab": {
          "background_save": true
        },
        "id": "LXuZGZo_Dcsi",
        "outputId": "f1d238d6-6123-4f59-fd0d-17f317b17e4e"
      },
      "outputs": [
        {
          "name": "stdout",
          "output_type": "stream",
          "text": [
            "Downloading animal-5-mammal.zip to /content\n",
            "100% 888M/892M [00:03<00:00, 295MB/s]\n",
            "100% 892M/892M [00:03<00:00, 268MB/s]\n"
          ]
        }
      ],
      "source": [
        "!kaggle datasets download -d shiv28/animal-5-mammal"
      ]
    },
    {
      "cell_type": "code",
      "execution_count": null,
      "metadata": {
        "colab": {
          "background_save": true
        },
        "id": "IbY9TDWEFcQ2"
      },
      "outputs": [],
      "source": [
        "!mkdir mammal\n",
        "!unzip -qq animal-5-mammal.zip -d mammal"
      ]
    },
    {
      "cell_type": "code",
      "execution_count": null,
      "metadata": {
        "colab": {
          "background_save": true
        },
        "id": "coMkIVXxHgZm"
      },
      "outputs": [],
      "source": [
        "dir = '/content/mammal/Animal/train'"
      ]
    },
    {
      "cell_type": "code",
      "execution_count": null,
      "metadata": {
        "colab": {
          "background_save": true
        },
        "id": "hl6PlalpILJF"
      },
      "outputs": [],
      "source": [
        "datagen = ImageDataGenerator(\n",
        "    rescale = 1./255,\n",
        "    fill_mode = 'nearest',\n",
        "    horizontal_flip = True,\n",
        "    rotation_range = 20,\n",
        "    width_shift_range = 0.2,\n",
        "    height_shift_range = 0.2,\n",
        "    shear_range = 0.2,\n",
        "    zoom_range = 0.15,\n",
        "    validation_split = 0.2\n",
        ")"
      ]
    },
    {
      "cell_type": "code",
      "execution_count": null,
      "metadata": {
        "colab": {
          "background_save": true
        },
        "id": "gR1JA7i5IiYF",
        "outputId": "06756f95-9c84-4bbd-b193-545af4f511e4"
      },
      "outputs": [
        {
          "name": "stdout",
          "output_type": "stream",
          "text": [
            "Found 10799 images belonging to 5 classes.\n",
            "Found 2697 images belonging to 5 classes.\n"
          ]
        }
      ],
      "source": [
        "w = 150\n",
        "h = 150\n",
        "\n",
        "train_dataset = datagen.flow_from_directory(\n",
        "    dir,\n",
        "    class_mode='categorical',\n",
        "    subset = 'training',\n",
        "    target_size = (w, h),\n",
        "    batch_size = 256\n",
        ")\n",
        "\n",
        "validation_dataset = datagen.flow_from_directory(\n",
        "    dir,\n",
        "    class_mode='categorical',\n",
        "    subset = 'validation',\n",
        "    target_size = (w, h),\n",
        "    batch_size = 256\n",
        ")"
      ]
    },
    {
      "cell_type": "code",
      "execution_count": null,
      "metadata": {
        "colab": {
          "background_save": true
        },
        "id": "u3UOFRWQJjMx"
      },
      "outputs": [],
      "source": [
        "\n",
        "model = Sequential(\n",
        "    [\n",
        "     layers.Conv2D(64, (3,3), activation='relu', input_shape=(w, h, 3)),\n",
        "     layers.MaxPooling2D(2, 2),\n",
        "     layers.Conv2D(64, (3, 3), activation='relu'),\n",
        "     layers.MaxPooling2D(2, 2),\n",
        "     layers.Dropout(0.2),\n",
        "     layers.Conv2D(128, (3, 3), activation='relu'),\n",
        "     layers.MaxPooling2D(2, 2),\n",
        "     layers.Dropout(0.5),\n",
        "     layers.Conv2D(256, (3, 3), activation='relu'),\n",
        "     layers.MaxPooling2D(2, 2),\n",
        "     layers.Dropout(0.5),\n",
        "     layers.Flatten(),\n",
        "     layers.Dense(512, activation = 'relu'),\n",
        "     layers.Dense(256, activation = 'relu'),\n",
        "     layers.Dense(5, activation = 'softmax')\n",
        "    ]\n",
        ")"
      ]
    },
    {
      "cell_type": "code",
      "execution_count": null,
      "metadata": {
        "colab": {
          "background_save": true
        },
        "id": "V5tszQ12JrFj",
        "outputId": "8f838003-8910-4568-b0ef-847f08b36348"
      },
      "outputs": [
        {
          "name": "stdout",
          "output_type": "stream",
          "text": [
            "Model: \"sequential\"\n",
            "_________________________________________________________________\n",
            " Layer (type)                Output Shape              Param #   \n",
            "=================================================================\n",
            " conv2d (Conv2D)             (None, 148, 148, 64)      1792      \n",
            "                                                                 \n",
            " max_pooling2d (MaxPooling2D  (None, 74, 74, 64)       0         \n",
            " )                                                               \n",
            "                                                                 \n",
            " conv2d_1 (Conv2D)           (None, 72, 72, 64)        36928     \n",
            "                                                                 \n",
            " max_pooling2d_1 (MaxPooling  (None, 36, 36, 64)       0         \n",
            " 2D)                                                             \n",
            "                                                                 \n",
            " dropout (Dropout)           (None, 36, 36, 64)        0         \n",
            "                                                                 \n",
            " conv2d_2 (Conv2D)           (None, 34, 34, 128)       73856     \n",
            "                                                                 \n",
            " max_pooling2d_2 (MaxPooling  (None, 17, 17, 128)      0         \n",
            " 2D)                                                             \n",
            "                                                                 \n",
            " dropout_1 (Dropout)         (None, 17, 17, 128)       0         \n",
            "                                                                 \n",
            " conv2d_3 (Conv2D)           (None, 15, 15, 256)       295168    \n",
            "                                                                 \n",
            " max_pooling2d_3 (MaxPooling  (None, 7, 7, 256)        0         \n",
            " 2D)                                                             \n",
            "                                                                 \n",
            " dropout_2 (Dropout)         (None, 7, 7, 256)         0         \n",
            "                                                                 \n",
            " flatten (Flatten)           (None, 12544)             0         \n",
            "                                                                 \n",
            " dense (Dense)               (None, 512)               6423040   \n",
            "                                                                 \n",
            " dense_1 (Dense)             (None, 256)               131328    \n",
            "                                                                 \n",
            " dense_2 (Dense)             (None, 5)                 1285      \n",
            "                                                                 \n",
            "=================================================================\n",
            "Total params: 6,963,397\n",
            "Trainable params: 6,963,397\n",
            "Non-trainable params: 0\n",
            "_________________________________________________________________\n"
          ]
        }
      ],
      "source": [
        "model.compile(\n",
        "    optimizer = 'adam',\n",
        "    loss = 'categorical_crossentropy',\n",
        "    metrics = ['accuracy']\n",
        ")\n",
        "model.summary()"
      ]
    },
    {
      "cell_type": "code",
      "execution_count": null,
      "metadata": {
        "colab": {
          "background_save": true
        },
        "id": "Oqarl6waJwBy"
      },
      "outputs": [],
      "source": [
        "class callback(tf.keras.callbacks.Callback):\n",
        "  def on_epoch_end(self, epocj, logs = None):\n",
        "    if (logs.get('accuracy') > 0.98 and logs.get('val_accuracy') > 0.98):\n",
        "      print('Akurasi telah mencapai 98%!')\n",
        "      self.model.stop_training = True"
      ]
    },
    {
      "cell_type": "code",
      "execution_count": null,
      "metadata": {
        "colab": {
          "background_save": true
        },
        "id": "7ms3LpQWJsyt",
        "outputId": "f19c03c0-fded-4204-91cd-73eca095fbd4"
      },
      "outputs": [
        {
          "name": "stdout",
          "output_type": "stream",
          "text": [
            "Epoch 1/100\n",
            "43/43 - 117s - loss: 1.4646 - accuracy: 0.3645 - val_loss: 1.4494 - val_accuracy: 0.4047 - 117s/epoch - 3s/step\n",
            "Epoch 2/100\n",
            "43/43 - 103s - loss: 1.3463 - accuracy: 0.4302 - val_loss: 1.2398 - val_accuracy: 0.4930 - 103s/epoch - 2s/step\n",
            "Epoch 3/100\n",
            "43/43 - 104s - loss: 1.2038 - accuracy: 0.5040 - val_loss: 1.1721 - val_accuracy: 0.5359 - 104s/epoch - 2s/step\n",
            "Epoch 4/100\n",
            "43/43 - 103s - loss: 1.1088 - accuracy: 0.5500 - val_loss: 0.9466 - val_accuracy: 0.6133 - 103s/epoch - 2s/step\n",
            "Epoch 5/100\n",
            "43/43 - 104s - loss: 1.0237 - accuracy: 0.5873 - val_loss: 0.8969 - val_accuracy: 0.6422 - 104s/epoch - 2s/step\n",
            "Epoch 6/100\n",
            "43/43 - 103s - loss: 0.9463 - accuracy: 0.6194 - val_loss: 0.9292 - val_accuracy: 0.6078 - 103s/epoch - 2s/step\n",
            "Epoch 7/100\n",
            "43/43 - 102s - loss: 0.8850 - accuracy: 0.6420 - val_loss: 0.7687 - val_accuracy: 0.6992 - 102s/epoch - 2s/step\n",
            "Epoch 8/100\n",
            "43/43 - 103s - loss: 0.8167 - accuracy: 0.6715 - val_loss: 0.8101 - val_accuracy: 0.6484 - 103s/epoch - 2s/step\n",
            "Epoch 9/100\n",
            "43/43 - 103s - loss: 0.7815 - accuracy: 0.6885 - val_loss: 0.6820 - val_accuracy: 0.7352 - 103s/epoch - 2s/step\n",
            "Epoch 10/100\n",
            "43/43 - 103s - loss: 0.7259 - accuracy: 0.7157 - val_loss: 0.6303 - val_accuracy: 0.7461 - 103s/epoch - 2s/step\n",
            "Epoch 11/100\n",
            "43/43 - 102s - loss: 0.6804 - accuracy: 0.7340 - val_loss: 0.6199 - val_accuracy: 0.7406 - 102s/epoch - 2s/step\n",
            "Epoch 12/100\n",
            "43/43 - 103s - loss: 0.6421 - accuracy: 0.7478 - val_loss: 0.6045 - val_accuracy: 0.7570 - 103s/epoch - 2s/step\n",
            "Epoch 13/100\n",
            "43/43 - 109s - loss: 0.6040 - accuracy: 0.7597 - val_loss: 0.5357 - val_accuracy: 0.7836 - 109s/epoch - 3s/step\n",
            "Epoch 14/100\n",
            "43/43 - 103s - loss: 0.5659 - accuracy: 0.7750 - val_loss: 0.6104 - val_accuracy: 0.7437 - 103s/epoch - 2s/step\n",
            "Epoch 15/100\n",
            "43/43 - 102s - loss: 0.5758 - accuracy: 0.7743 - val_loss: 0.5262 - val_accuracy: 0.7945 - 102s/epoch - 2s/step\n",
            "Epoch 16/100\n",
            "43/43 - 102s - loss: 0.5657 - accuracy: 0.7791 - val_loss: 0.4722 - val_accuracy: 0.8203 - 102s/epoch - 2s/step\n",
            "Epoch 17/100\n",
            "43/43 - 103s - loss: 0.5148 - accuracy: 0.7973 - val_loss: 0.4770 - val_accuracy: 0.8039 - 103s/epoch - 2s/step\n",
            "Epoch 18/100\n",
            "43/43 - 103s - loss: 0.4776 - accuracy: 0.8102 - val_loss: 0.4935 - val_accuracy: 0.8109 - 103s/epoch - 2s/step\n",
            "Epoch 19/100\n",
            "43/43 - 102s - loss: 0.5014 - accuracy: 0.8053 - val_loss: 0.4031 - val_accuracy: 0.8445 - 102s/epoch - 2s/step\n",
            "Epoch 20/100\n",
            "43/43 - 103s - loss: 0.4721 - accuracy: 0.8170 - val_loss: 0.4645 - val_accuracy: 0.8008 - 103s/epoch - 2s/step\n",
            "Epoch 21/100\n",
            "43/43 - 101s - loss: 0.4619 - accuracy: 0.8140 - val_loss: 0.4194 - val_accuracy: 0.8375 - 101s/epoch - 2s/step\n",
            "Epoch 22/100\n",
            "43/43 - 101s - loss: 0.4546 - accuracy: 0.8195 - val_loss: 0.4030 - val_accuracy: 0.8391 - 101s/epoch - 2s/step\n",
            "Epoch 23/100\n",
            "43/43 - 100s - loss: 0.4519 - accuracy: 0.8242 - val_loss: 0.4194 - val_accuracy: 0.8320 - 100s/epoch - 2s/step\n",
            "Epoch 24/100\n",
            "43/43 - 102s - loss: 0.4253 - accuracy: 0.8342 - val_loss: 0.4488 - val_accuracy: 0.8211 - 102s/epoch - 2s/step\n",
            "Epoch 25/100\n",
            "43/43 - 101s - loss: 0.4380 - accuracy: 0.8278 - val_loss: 0.4236 - val_accuracy: 0.8344 - 101s/epoch - 2s/step\n",
            "Epoch 26/100\n",
            "43/43 - 101s - loss: 0.4116 - accuracy: 0.8395 - val_loss: 0.4035 - val_accuracy: 0.8289 - 101s/epoch - 2s/step\n",
            "Epoch 27/100\n",
            "43/43 - 102s - loss: 0.4225 - accuracy: 0.8313 - val_loss: 0.3359 - val_accuracy: 0.8687 - 102s/epoch - 2s/step\n",
            "Epoch 28/100\n",
            "43/43 - 101s - loss: 0.3953 - accuracy: 0.8446 - val_loss: 0.3635 - val_accuracy: 0.8547 - 101s/epoch - 2s/step\n",
            "Epoch 29/100\n",
            "43/43 - 102s - loss: 0.3933 - accuracy: 0.8485 - val_loss: 0.4195 - val_accuracy: 0.8234 - 102s/epoch - 2s/step\n",
            "Epoch 30/100\n",
            "43/43 - 101s - loss: 0.3832 - accuracy: 0.8530 - val_loss: 0.4222 - val_accuracy: 0.8289 - 101s/epoch - 2s/step\n",
            "Epoch 31/100\n",
            "43/43 - 103s - loss: 0.3942 - accuracy: 0.8474 - val_loss: 0.3718 - val_accuracy: 0.8594 - 103s/epoch - 2s/step\n",
            "Epoch 32/100\n",
            "43/43 - 101s - loss: 0.3829 - accuracy: 0.8496 - val_loss: 0.3314 - val_accuracy: 0.8719 - 101s/epoch - 2s/step\n",
            "Epoch 33/100\n",
            "43/43 - 103s - loss: 0.3832 - accuracy: 0.8492 - val_loss: 0.3476 - val_accuracy: 0.8500 - 103s/epoch - 2s/step\n",
            "Epoch 34/100\n",
            "43/43 - 111s - loss: 0.3632 - accuracy: 0.8604 - val_loss: 0.3415 - val_accuracy: 0.8742 - 111s/epoch - 3s/step\n",
            "Epoch 35/100\n",
            "43/43 - 111s - loss: 0.3583 - accuracy: 0.8620 - val_loss: 0.3483 - val_accuracy: 0.8609 - 111s/epoch - 3s/step\n",
            "Epoch 36/100\n",
            "43/43 - 113s - loss: 0.3559 - accuracy: 0.8621 - val_loss: 0.3651 - val_accuracy: 0.8633 - 113s/epoch - 3s/step\n",
            "Epoch 37/100\n",
            "43/43 - 111s - loss: 0.3480 - accuracy: 0.8617 - val_loss: 0.2979 - val_accuracy: 0.8789 - 111s/epoch - 3s/step\n",
            "Epoch 38/100\n",
            "43/43 - 113s - loss: 0.3338 - accuracy: 0.8718 - val_loss: 0.2966 - val_accuracy: 0.8820 - 113s/epoch - 3s/step\n",
            "Epoch 39/100\n",
            "43/43 - 112s - loss: 0.3283 - accuracy: 0.8695 - val_loss: 0.2843 - val_accuracy: 0.8875 - 112s/epoch - 3s/step\n",
            "Epoch 40/100\n",
            "43/43 - 110s - loss: 0.3232 - accuracy: 0.8772 - val_loss: 0.3279 - val_accuracy: 0.8758 - 110s/epoch - 3s/step\n",
            "Epoch 41/100\n",
            "43/43 - 112s - loss: 0.3288 - accuracy: 0.8739 - val_loss: 0.3405 - val_accuracy: 0.8555 - 112s/epoch - 3s/step\n",
            "Epoch 42/100\n",
            "43/43 - 106s - loss: 0.3174 - accuracy: 0.8800 - val_loss: 0.4129 - val_accuracy: 0.8313 - 106s/epoch - 2s/step\n",
            "Epoch 43/100\n",
            "43/43 - 114s - loss: 0.3151 - accuracy: 0.8777 - val_loss: 0.4029 - val_accuracy: 0.8359 - 114s/epoch - 3s/step\n",
            "Epoch 44/100\n",
            "43/43 - 112s - loss: 0.3064 - accuracy: 0.8784 - val_loss: 0.3251 - val_accuracy: 0.8648 - 112s/epoch - 3s/step\n",
            "Epoch 45/100\n",
            "43/43 - 111s - loss: 0.3044 - accuracy: 0.8826 - val_loss: 0.3377 - val_accuracy: 0.8695 - 111s/epoch - 3s/step\n",
            "Epoch 46/100\n",
            "43/43 - 111s - loss: 0.3107 - accuracy: 0.8795 - val_loss: 0.3322 - val_accuracy: 0.8695 - 111s/epoch - 3s/step\n",
            "Epoch 47/100\n",
            "43/43 - 108s - loss: 0.3040 - accuracy: 0.8825 - val_loss: 0.3439 - val_accuracy: 0.8672 - 108s/epoch - 3s/step\n",
            "Epoch 48/100\n",
            "43/43 - 110s - loss: 0.2887 - accuracy: 0.8886 - val_loss: 0.3446 - val_accuracy: 0.8656 - 110s/epoch - 3s/step\n",
            "Epoch 49/100\n",
            "43/43 - 109s - loss: 0.3035 - accuracy: 0.8879 - val_loss: 0.3630 - val_accuracy: 0.8594 - 109s/epoch - 3s/step\n",
            "Epoch 50/100\n",
            "43/43 - 111s - loss: 0.2930 - accuracy: 0.8855 - val_loss: 0.2381 - val_accuracy: 0.9109 - 111s/epoch - 3s/step\n",
            "Epoch 51/100\n"
          ]
        }
      ],
      "source": [
        "history = model.fit(\n",
        "    train_dataset,\n",
        "    validation_data = validation_dataset,\n",
        "    validation_steps = 5,\n",
        "    epochs = 150,\n",
        "    verbose = 2,\n",
        "    callbacks = [callback()]    \n",
        ")"
      ]
    },
    {
      "cell_type": "code",
      "execution_count": null,
      "metadata": {
        "colab": {
          "background_save": true
        },
        "id": "qsFlWFqpJ5Gm"
      },
      "outputs": [],
      "source": [
        "plt.plot(history.history['accuracy'])\n",
        "plt.plot(history.history['val_accuracy'])\n",
        "plt.title('model accuracy')\n",
        "plt.ylabel('accuracy')\n",
        "plt.xlabel('epoch')\n",
        "plt.legend(['train', 'test'], loc='upper left')\n",
        "plt.show()"
      ]
    },
    {
      "cell_type": "code",
      "execution_count": null,
      "metadata": {
        "colab": {
          "background_save": true
        },
        "id": "OIIXThGQJ69I"
      },
      "outputs": [],
      "source": [
        "plt.plot(history.history['loss'])\n",
        "plt.plot(history.history['val_loss'])\n",
        "plt.title('model loss')\n",
        "plt.ylabel('loss')\n",
        "plt.xlabel('epoch')\n",
        "plt.legend(['train', 'test'], loc='upper left')\n",
        "plt.show()"
      ]
    },
    {
      "cell_type": "code",
      "execution_count": null,
      "metadata": {
        "colab": {
          "background_save": true
        },
        "id": "-dgJqo06KC68"
      },
      "outputs": [],
      "source": [
        "converter = tf.lite.TFLiteConverter.from_keras_model(model)\n",
        "tflite_model = converter.convert()\n",
        "\n",
        "with tf.io.gfile.GFile('model.tflite', 'wb') as f:\n",
        "   f.write(tflite_model)"
      ]
    }
  ],
  "metadata": {
    "accelerator": "GPU",
    "colab": {
      "collapsed_sections": [],
      "provenance": []
    },
    "kernelspec": {
      "display_name": "Python 3",
      "name": "python3"
    },
    "language_info": {
      "name": "python"
    }
  },
  "nbformat": 4,
  "nbformat_minor": 0
}