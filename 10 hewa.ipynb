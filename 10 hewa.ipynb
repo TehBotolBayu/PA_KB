{
  "cells": [
    {
      "cell_type": "code",
      "execution_count": null,
      "metadata": {
        "id": "5tP7YjbtzIXo"
      },
      "outputs": [],
      "source": [
        "from google.colab import files\n",
        "\n",
        "import tensorflow as tf\n",
        "from tensorflow import keras\n",
        "from tensorflow.keras import utils\n",
        "from tensorflow.keras import layers\n",
        "from tensorflow.keras.models import Sequential\n",
        "from tensorflow.keras.preprocessing import image\n",
        "from tensorflow.keras.preprocessing.image import ImageDataGenerator\n",
        "\n",
        "\n",
        "import matplotlib.pyplot as plt\n",
        "import numpy as py\n",
        "\n",
        "import os\n",
        "import shutil"
      ]
    },
    {
      "cell_type": "code",
      "execution_count": null,
      "metadata": {
        "id": "-aBwS1mpCSOa"
      },
      "outputs": [],
      "source": [
        "!pip install -q kaggle"
      ]
    },
    {
      "cell_type": "code",
      "execution_count": null,
      "metadata": {
        "colab": {
          "base_uri": "https://localhost:8080/",
          "height": 90
        },
        "id": "iklQNXr6DLJK",
        "outputId": "37e7ef0f-74ed-45f0-fdec-12c3d0fa2695"
      },
      "outputs": [
        {
          "output_type": "display_data",
          "data": {
            "text/plain": [
              "<IPython.core.display.HTML object>"
            ],
            "text/html": [
              "\n",
              "     <input type=\"file\" id=\"files-52d932b6-3171-46b9-9e05-a261f34a716a\" name=\"files[]\" multiple disabled\n",
              "        style=\"border:none\" />\n",
              "     <output id=\"result-52d932b6-3171-46b9-9e05-a261f34a716a\">\n",
              "      Upload widget is only available when the cell has been executed in the\n",
              "      current browser session. Please rerun this cell to enable.\n",
              "      </output>\n",
              "      <script>// Copyright 2017 Google LLC\n",
              "//\n",
              "// Licensed under the Apache License, Version 2.0 (the \"License\");\n",
              "// you may not use this file except in compliance with the License.\n",
              "// You may obtain a copy of the License at\n",
              "//\n",
              "//      http://www.apache.org/licenses/LICENSE-2.0\n",
              "//\n",
              "// Unless required by applicable law or agreed to in writing, software\n",
              "// distributed under the License is distributed on an \"AS IS\" BASIS,\n",
              "// WITHOUT WARRANTIES OR CONDITIONS OF ANY KIND, either express or implied.\n",
              "// See the License for the specific language governing permissions and\n",
              "// limitations under the License.\n",
              "\n",
              "/**\n",
              " * @fileoverview Helpers for google.colab Python module.\n",
              " */\n",
              "(function(scope) {\n",
              "function span(text, styleAttributes = {}) {\n",
              "  const element = document.createElement('span');\n",
              "  element.textContent = text;\n",
              "  for (const key of Object.keys(styleAttributes)) {\n",
              "    element.style[key] = styleAttributes[key];\n",
              "  }\n",
              "  return element;\n",
              "}\n",
              "\n",
              "// Max number of bytes which will be uploaded at a time.\n",
              "const MAX_PAYLOAD_SIZE = 100 * 1024;\n",
              "\n",
              "function _uploadFiles(inputId, outputId) {\n",
              "  const steps = uploadFilesStep(inputId, outputId);\n",
              "  const outputElement = document.getElementById(outputId);\n",
              "  // Cache steps on the outputElement to make it available for the next call\n",
              "  // to uploadFilesContinue from Python.\n",
              "  outputElement.steps = steps;\n",
              "\n",
              "  return _uploadFilesContinue(outputId);\n",
              "}\n",
              "\n",
              "// This is roughly an async generator (not supported in the browser yet),\n",
              "// where there are multiple asynchronous steps and the Python side is going\n",
              "// to poll for completion of each step.\n",
              "// This uses a Promise to block the python side on completion of each step,\n",
              "// then passes the result of the previous step as the input to the next step.\n",
              "function _uploadFilesContinue(outputId) {\n",
              "  const outputElement = document.getElementById(outputId);\n",
              "  const steps = outputElement.steps;\n",
              "\n",
              "  const next = steps.next(outputElement.lastPromiseValue);\n",
              "  return Promise.resolve(next.value.promise).then((value) => {\n",
              "    // Cache the last promise value to make it available to the next\n",
              "    // step of the generator.\n",
              "    outputElement.lastPromiseValue = value;\n",
              "    return next.value.response;\n",
              "  });\n",
              "}\n",
              "\n",
              "/**\n",
              " * Generator function which is called between each async step of the upload\n",
              " * process.\n",
              " * @param {string} inputId Element ID of the input file picker element.\n",
              " * @param {string} outputId Element ID of the output display.\n",
              " * @return {!Iterable<!Object>} Iterable of next steps.\n",
              " */\n",
              "function* uploadFilesStep(inputId, outputId) {\n",
              "  const inputElement = document.getElementById(inputId);\n",
              "  inputElement.disabled = false;\n",
              "\n",
              "  const outputElement = document.getElementById(outputId);\n",
              "  outputElement.innerHTML = '';\n",
              "\n",
              "  const pickedPromise = new Promise((resolve) => {\n",
              "    inputElement.addEventListener('change', (e) => {\n",
              "      resolve(e.target.files);\n",
              "    });\n",
              "  });\n",
              "\n",
              "  const cancel = document.createElement('button');\n",
              "  inputElement.parentElement.appendChild(cancel);\n",
              "  cancel.textContent = 'Cancel upload';\n",
              "  const cancelPromise = new Promise((resolve) => {\n",
              "    cancel.onclick = () => {\n",
              "      resolve(null);\n",
              "    };\n",
              "  });\n",
              "\n",
              "  // Wait for the user to pick the files.\n",
              "  const files = yield {\n",
              "    promise: Promise.race([pickedPromise, cancelPromise]),\n",
              "    response: {\n",
              "      action: 'starting',\n",
              "    }\n",
              "  };\n",
              "\n",
              "  cancel.remove();\n",
              "\n",
              "  // Disable the input element since further picks are not allowed.\n",
              "  inputElement.disabled = true;\n",
              "\n",
              "  if (!files) {\n",
              "    return {\n",
              "      response: {\n",
              "        action: 'complete',\n",
              "      }\n",
              "    };\n",
              "  }\n",
              "\n",
              "  for (const file of files) {\n",
              "    const li = document.createElement('li');\n",
              "    li.append(span(file.name, {fontWeight: 'bold'}));\n",
              "    li.append(span(\n",
              "        `(${file.type || 'n/a'}) - ${file.size} bytes, ` +\n",
              "        `last modified: ${\n",
              "            file.lastModifiedDate ? file.lastModifiedDate.toLocaleDateString() :\n",
              "                                    'n/a'} - `));\n",
              "    const percent = span('0% done');\n",
              "    li.appendChild(percent);\n",
              "\n",
              "    outputElement.appendChild(li);\n",
              "\n",
              "    const fileDataPromise = new Promise((resolve) => {\n",
              "      const reader = new FileReader();\n",
              "      reader.onload = (e) => {\n",
              "        resolve(e.target.result);\n",
              "      };\n",
              "      reader.readAsArrayBuffer(file);\n",
              "    });\n",
              "    // Wait for the data to be ready.\n",
              "    let fileData = yield {\n",
              "      promise: fileDataPromise,\n",
              "      response: {\n",
              "        action: 'continue',\n",
              "      }\n",
              "    };\n",
              "\n",
              "    // Use a chunked sending to avoid message size limits. See b/62115660.\n",
              "    let position = 0;\n",
              "    do {\n",
              "      const length = Math.min(fileData.byteLength - position, MAX_PAYLOAD_SIZE);\n",
              "      const chunk = new Uint8Array(fileData, position, length);\n",
              "      position += length;\n",
              "\n",
              "      const base64 = btoa(String.fromCharCode.apply(null, chunk));\n",
              "      yield {\n",
              "        response: {\n",
              "          action: 'append',\n",
              "          file: file.name,\n",
              "          data: base64,\n",
              "        },\n",
              "      };\n",
              "\n",
              "      let percentDone = fileData.byteLength === 0 ?\n",
              "          100 :\n",
              "          Math.round((position / fileData.byteLength) * 100);\n",
              "      percent.textContent = `${percentDone}% done`;\n",
              "\n",
              "    } while (position < fileData.byteLength);\n",
              "  }\n",
              "\n",
              "  // All done.\n",
              "  yield {\n",
              "    response: {\n",
              "      action: 'complete',\n",
              "    }\n",
              "  };\n",
              "}\n",
              "\n",
              "scope.google = scope.google || {};\n",
              "scope.google.colab = scope.google.colab || {};\n",
              "scope.google.colab._files = {\n",
              "  _uploadFiles,\n",
              "  _uploadFilesContinue,\n",
              "};\n",
              "})(self);\n",
              "</script> "
            ]
          },
          "metadata": {}
        },
        {
          "output_type": "stream",
          "name": "stdout",
          "text": [
            "Saving kaggle.json to kaggle (4).json\n"
          ]
        },
        {
          "output_type": "execute_result",
          "data": {
            "text/plain": [
              "{'kaggle.json': b'{\"username\":\"bayuabdurrosyid\",\"key\":\"377e83e17d65f0c8a79606180f4883c4\"}'}"
            ]
          },
          "metadata": {},
          "execution_count": 19
        }
      ],
      "source": [
        "files.upload()"
      ]
    },
    {
      "cell_type": "code",
      "execution_count": null,
      "metadata": {
        "id": "UdaxjQNdDSGQ"
      },
      "outputs": [],
      "source": [
        "!mkdir -p ~/.kaggle\n",
        "!cp kaggle.json ~/.kaggle/\n",
        "!chmod 600 ~/.kaggle/kaggle.json"
      ]
    },
    {
      "cell_type": "code",
      "execution_count": null,
      "metadata": {
        "colab": {
          "base_uri": "https://localhost:8080/"
        },
        "id": "LXuZGZo_Dcsi",
        "outputId": "c5f26cc0-3d7f-4910-a134-5f90137de452"
      },
      "outputs": [
        {
          "output_type": "stream",
          "name": "stdout",
          "text": [
            "401 - Unauthorized\n"
          ]
        }
      ],
      "source": [
        "!kaggle datasets download -d madisona/translated-animals10"
      ]
    },
    {
      "cell_type": "code",
      "execution_count": null,
      "metadata": {
        "id": "IbY9TDWEFcQ2"
      },
      "outputs": [],
      "source": [
        "!mkdir animals\n",
        "!unzip -qq translated-animals10.zip -d animals"
      ]
    },
    {
      "cell_type": "code",
      "execution_count": null,
      "metadata": {
        "id": "coMkIVXxHgZm"
      },
      "outputs": [],
      "source": [
        "dir = '/content/animals/animals10/raw-img'"
      ]
    },
    {
      "cell_type": "code",
      "execution_count": null,
      "metadata": {
        "colab": {
          "base_uri": "https://localhost:8080/"
        },
        "id": "l2rB3rttgpNh",
        "outputId": "5cc5e8fe-1f8b-45ee-a1aa-88207e10ec4d"
      },
      "outputs": [
        {
          "name": "stdout",
          "output_type": "stream",
          "text": [
            "['sheep', 'cow', 'cat', 'dog']\n"
          ]
        }
      ],
      "source": [
        "ignore = ['squirrel', 'spider', 'butterfly', 'chicken', 'elephant', 'horse']\n",
        "\n",
        "for x in ignore:\n",
        "  path = os.path.join(dir, x)\n",
        "  shutil.rmtree(path)\n",
        "\n",
        "print(os.listdir(dir))"
      ]
    },
    {
      "cell_type": "code",
      "execution_count": null,
      "metadata": {
        "id": "hl6PlalpILJF"
      },
      "outputs": [],
      "source": [
        "datagen = ImageDataGenerator(\n",
        "    rescale = 1./255,\n",
        "    fill_mode = 'nearest',\n",
        "    horizontal_flip = True,\n",
        "    rotation_range = 20,\n",
        "    width_shift_range = 0.2,\n",
        "    height_shift_range = 0.2,\n",
        "    shear_range = 0.2,\n",
        "    zoom_range = 0.15,\n",
        "    validation_split = 0.2\n",
        ")"
      ]
    },
    {
      "cell_type": "code",
      "execution_count": null,
      "metadata": {
        "colab": {
          "base_uri": "https://localhost:8080/"
        },
        "id": "gR1JA7i5IiYF",
        "outputId": "6e4633a8-dbd9-4048-c772-40f7dc255f01"
      },
      "outputs": [
        {
          "name": "stdout",
          "output_type": "stream",
          "text": [
            "Found 8175 images belonging to 4 classes.\n",
            "Found 2042 images belonging to 4 classes.\n"
          ]
        }
      ],
      "source": [
        "w = 150\n",
        "h = 150\n",
        "\n",
        "train_dataset = datagen.flow_from_directory(\n",
        "    dir,\n",
        "    class_mode='categorical',\n",
        "    subset = 'training',\n",
        "    target_size = (w, h),\n",
        "    batch_size = 256\n",
        ")\n",
        "\n",
        "validation_dataset = datagen.flow_from_directory(\n",
        "    dir,\n",
        "    class_mode='categorical',\n",
        "    subset = 'validation',\n",
        "    target_size = (w, h),\n",
        "    batch_size = 256\n",
        ")"
      ]
    },
    {
      "cell_type": "code",
      "execution_count": null,
      "metadata": {
        "id": "u3UOFRWQJjMx"
      },
      "outputs": [],
      "source": [
        "model = Sequential(\n",
        "    [\n",
        "     layers.Conv2D(64, (3,3), activation='relu', input_shape=(w, h, 3)),\n",
        "     layers.MaxPooling2D(2, 2),\n",
        "     layers.Conv2D(64, (3, 3), activation='relu'),\n",
        "     layers.MaxPooling2D(2, 2),\n",
        "     layers.Conv2D(128, (3, 3), activation='relu'),\n",
        "     layers.MaxPooling2D(2, 2),\n",
        "     layers.Conv2D(256, (3, 3), activation='relu'),\n",
        "     layers.MaxPooling2D(2, 2),\n",
        "     layers.Dropout(0.2),\n",
        "     layers.Flatten(),\n",
        "     layers.Dense(512, activation = 'relu'),\n",
        "     layers.Dense(256, activation = 'relu'),\n",
        "     layers.Dense(4, activation = 'softmax')\n",
        "    ]\n",
        ")"
      ]
    },
    {
      "cell_type": "code",
      "execution_count": null,
      "metadata": {
        "colab": {
          "base_uri": "https://localhost:8080/"
        },
        "id": "V5tszQ12JrFj",
        "outputId": "00d3712d-bdb6-4a44-ac2d-81b3c887d06c"
      },
      "outputs": [
        {
          "name": "stdout",
          "output_type": "stream",
          "text": [
            "Model: \"sequential\"\n",
            "_________________________________________________________________\n",
            " Layer (type)                Output Shape              Param #   \n",
            "=================================================================\n",
            " conv2d (Conv2D)             (None, 148, 148, 64)      1792      \n",
            "                                                                 \n",
            " max_pooling2d (MaxPooling2D  (None, 74, 74, 64)       0         \n",
            " )                                                               \n",
            "                                                                 \n",
            " conv2d_1 (Conv2D)           (None, 72, 72, 64)        36928     \n",
            "                                                                 \n",
            " max_pooling2d_1 (MaxPooling  (None, 36, 36, 64)       0         \n",
            " 2D)                                                             \n",
            "                                                                 \n",
            " conv2d_2 (Conv2D)           (None, 34, 34, 128)       73856     \n",
            "                                                                 \n",
            " max_pooling2d_2 (MaxPooling  (None, 17, 17, 128)      0         \n",
            " 2D)                                                             \n",
            "                                                                 \n",
            " conv2d_3 (Conv2D)           (None, 15, 15, 256)       295168    \n",
            "                                                                 \n",
            " max_pooling2d_3 (MaxPooling  (None, 7, 7, 256)        0         \n",
            " 2D)                                                             \n",
            "                                                                 \n",
            " flatten (Flatten)           (None, 12544)             0         \n",
            "                                                                 \n",
            " dropout (Dropout)           (None, 12544)             0         \n",
            "                                                                 \n",
            " dense (Dense)               (None, 512)               6423040   \n",
            "                                                                 \n",
            " dense_1 (Dense)             (None, 4)                 2052      \n",
            "                                                                 \n",
            "=================================================================\n",
            "Total params: 6,832,836\n",
            "Trainable params: 6,832,836\n",
            "Non-trainable params: 0\n",
            "_________________________________________________________________\n"
          ]
        }
      ],
      "source": [
        "model.compile(\n",
        "    optimizer = 'adam',\n",
        "    loss = 'categorical_crossentropy',\n",
        "    metrics = ['accuracy']\n",
        ")\n",
        "model.summary()"
      ]
    },
    {
      "cell_type": "code",
      "execution_count": null,
      "metadata": {
        "id": "Oqarl6waJwBy"
      },
      "outputs": [],
      "source": [
        "class callback(tf.keras.callbacks.Callback):\n",
        "  def on_epoch_end(self, epocj, logs = None):\n",
        "    if (logs.get('accuracy') > 0.92 and logs.get('val_accuracy') > 0.92):\n",
        "      print('Akurasi telah mencapai 92%!')\n",
        "      self.model.stop_training = True"
      ]
    },
    {
      "cell_type": "code",
      "execution_count": null,
      "metadata": {
        "colab": {
          "background_save": true,
          "base_uri": "https://localhost:8080/"
        },
        "id": "7ms3LpQWJsyt",
        "outputId": "9752b268-7946-4eed-826a-d0186c9e9658"
      },
      "outputs": [
        {
          "name": "stdout",
          "output_type": "stream",
          "text": [
            "Epoch 1/40\n",
            "32/32 - 68s - loss: 1.3140 - accuracy: 0.4572 - val_loss: 1.2318 - val_accuracy: 0.4734 - 68s/epoch - 2s/step\n",
            "Epoch 2/40\n",
            "32/32 - 66s - loss: 1.1686 - accuracy: 0.5009 - val_loss: 1.0565 - val_accuracy: 0.5227 - 66s/epoch - 2s/step\n",
            "Epoch 3/40\n",
            "32/32 - 65s - loss: 1.0435 - accuracy: 0.5595 - val_loss: 0.9874 - val_accuracy: 0.5695 - 65s/epoch - 2s/step\n",
            "Epoch 4/40\n",
            "32/32 - 65s - loss: 1.0119 - accuracy: 0.5681 - val_loss: 0.9575 - val_accuracy: 0.5672 - 65s/epoch - 2s/step\n",
            "Epoch 5/40\n",
            "32/32 - 65s - loss: 0.9477 - accuracy: 0.5994 - val_loss: 0.9260 - val_accuracy: 0.6086 - 65s/epoch - 2s/step\n",
            "Epoch 6/40\n",
            "32/32 - 65s - loss: 0.9347 - accuracy: 0.6159 - val_loss: 0.8851 - val_accuracy: 0.6391 - 65s/epoch - 2s/step\n",
            "Epoch 7/40\n",
            "32/32 - 65s - loss: 0.8906 - accuracy: 0.6402 - val_loss: 0.8771 - val_accuracy: 0.6313 - 65s/epoch - 2s/step\n",
            "Epoch 8/40\n",
            "32/32 - 65s - loss: 0.8367 - accuracy: 0.6536 - val_loss: 0.8735 - val_accuracy: 0.6414 - 65s/epoch - 2s/step\n",
            "Epoch 9/40\n",
            "32/32 - 64s - loss: 0.8264 - accuracy: 0.6625 - val_loss: 0.7918 - val_accuracy: 0.6633 - 64s/epoch - 2s/step\n",
            "Epoch 10/40\n",
            "32/32 - 64s - loss: 0.8222 - accuracy: 0.6653 - val_loss: 0.7565 - val_accuracy: 0.6852 - 64s/epoch - 2s/step\n",
            "Epoch 11/40\n",
            "32/32 - 64s - loss: 0.7730 - accuracy: 0.6878 - val_loss: 0.7811 - val_accuracy: 0.6852 - 64s/epoch - 2s/step\n",
            "Epoch 12/40\n",
            "32/32 - 64s - loss: 0.7801 - accuracy: 0.6913 - val_loss: 0.7580 - val_accuracy: 0.6820 - 64s/epoch - 2s/step\n",
            "Epoch 13/40\n",
            "32/32 - 64s - loss: 0.7483 - accuracy: 0.6990 - val_loss: 0.7608 - val_accuracy: 0.6867 - 64s/epoch - 2s/step\n",
            "Epoch 14/40\n",
            "32/32 - 64s - loss: 0.7438 - accuracy: 0.7031 - val_loss: 0.7854 - val_accuracy: 0.6984 - 64s/epoch - 2s/step\n",
            "Epoch 15/40\n",
            "32/32 - 64s - loss: 0.7342 - accuracy: 0.7051 - val_loss: 0.7406 - val_accuracy: 0.7055 - 64s/epoch - 2s/step\n",
            "Epoch 16/40\n",
            "32/32 - 64s - loss: 0.7317 - accuracy: 0.7063 - val_loss: 0.7204 - val_accuracy: 0.7125 - 64s/epoch - 2s/step\n",
            "Epoch 17/40\n",
            "32/32 - 64s - loss: 0.7097 - accuracy: 0.7191 - val_loss: 0.7510 - val_accuracy: 0.7023 - 64s/epoch - 2s/step\n",
            "Epoch 18/40\n",
            "32/32 - 64s - loss: 0.6874 - accuracy: 0.7227 - val_loss: 0.7004 - val_accuracy: 0.7227 - 64s/epoch - 2s/step\n",
            "Epoch 19/40\n",
            "32/32 - 64s - loss: 0.6732 - accuracy: 0.7311 - val_loss: 0.6745 - val_accuracy: 0.7211 - 64s/epoch - 2s/step\n",
            "Epoch 20/40\n",
            "32/32 - 64s - loss: 0.6508 - accuracy: 0.7480 - val_loss: 0.6888 - val_accuracy: 0.7164 - 64s/epoch - 2s/step\n",
            "Epoch 21/40\n",
            "32/32 - 64s - loss: 0.6553 - accuracy: 0.7420 - val_loss: 0.7016 - val_accuracy: 0.7039 - 64s/epoch - 2s/step\n",
            "Epoch 22/40\n",
            "32/32 - 64s - loss: 0.6422 - accuracy: 0.7505 - val_loss: 0.6203 - val_accuracy: 0.7484 - 64s/epoch - 2s/step\n",
            "Epoch 23/40\n",
            "32/32 - 64s - loss: 0.6196 - accuracy: 0.7536 - val_loss: 0.6208 - val_accuracy: 0.7563 - 64s/epoch - 2s/step\n",
            "Epoch 24/40\n",
            "32/32 - 64s - loss: 0.6031 - accuracy: 0.7660 - val_loss: 0.6394 - val_accuracy: 0.7312 - 64s/epoch - 2s/step\n",
            "Epoch 25/40\n",
            "32/32 - 64s - loss: 0.5776 - accuracy: 0.7725 - val_loss: 0.6420 - val_accuracy: 0.7453 - 64s/epoch - 2s/step\n",
            "Epoch 26/40\n",
            "32/32 - 64s - loss: 0.5834 - accuracy: 0.7687 - val_loss: 0.6517 - val_accuracy: 0.7289 - 64s/epoch - 2s/step\n",
            "Epoch 27/40\n",
            "32/32 - 65s - loss: 0.5672 - accuracy: 0.7766 - val_loss: 0.6213 - val_accuracy: 0.7695 - 65s/epoch - 2s/step\n",
            "Epoch 28/40\n"
          ]
        }
      ],
      "source": [
        "history = model.fit(\n",
        "    train_dataset,\n",
        "    validation_data = validation_dataset,\n",
        "    validation_steps = 5,\n",
        "    epochs = 40,\n",
        "    verbose = 2,\n",
        "    callbacks = [callback()]    \n",
        ")"
      ]
    },
    {
      "cell_type": "code",
      "execution_count": null,
      "metadata": {
        "id": "4jjPog0cgfRi"
      },
      "outputs": [],
      "source": [
        "history = model.fit(\n",
        "    train_dataset,\n",
        "    validation_data = validation_dataset,\n",
        "    validation_steps = 5,\n",
        "    epochs = 40,\n",
        "    verbose = 2,\n",
        "    callbacks = [callback()]    \n",
        ")"
      ]
    },
    {
      "cell_type": "code",
      "execution_count": null,
      "metadata": {
        "colab": {
          "background_save": true
        },
        "id": "qsFlWFqpJ5Gm"
      },
      "outputs": [],
      "source": [
        "plt.plot(history.history['accuracy'])\n",
        "plt.plot(history.history['val_accuracy'])\n",
        "plt.title('model accuracy')\n",
        "plt.ylabel('accuracy')\n",
        "plt.xlabel('epoch')\n",
        "plt.legend(['train', 'test'], loc='upper left')\n",
        "plt.show()"
      ]
    },
    {
      "cell_type": "code",
      "execution_count": null,
      "metadata": {
        "id": "OIIXThGQJ69I"
      },
      "outputs": [],
      "source": [
        "plt.plot(history.history['loss'])\n",
        "plt.plot(history.history['val_loss'])\n",
        "plt.title('model loss')\n",
        "plt.ylabel('loss')\n",
        "plt.xlabel('epoch')\n",
        "plt.legend(['train', 'test'], loc='upper left')\n",
        "plt.show()"
      ]
    },
    {
      "cell_type": "code",
      "execution_count": null,
      "metadata": {
        "id": "-dgJqo06KC68"
      },
      "outputs": [],
      "source": [
        "# converter = tf.lite.TFLiteConverter.from_keras_model(model)\n",
        "# tflite_model = converter.convert()\n",
        "\n",
        "# with tf.io.gfile.GFile('model.tflite', 'wb') as f:\n",
        "#   f.write(tflite_model)"
      ]
    },
    {
      "cell_type": "code",
      "execution_count": null,
      "metadata": {
        "id": "7HaVdr98KEIq"
      },
      "outputs": [],
      "source": [
        "# !ls -la | grep 'model' "
      ]
    }
  ],
  "metadata": {
    "accelerator": "GPU",
    "colab": {
      "collapsed_sections": [],
      "provenance": []
    },
    "kernelspec": {
      "display_name": "Python 3",
      "name": "python3"
    },
    "language_info": {
      "name": "python"
    }
  },
  "nbformat": 4,
  "nbformat_minor": 0
}